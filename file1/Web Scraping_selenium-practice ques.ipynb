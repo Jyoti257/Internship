{
 "cells": [
  {
   "cell_type": "code",
   "execution_count": null,
   "metadata": {},
   "outputs": [],
   "source": [
    "pip install selenium"
   ]
  },
  {
   "cell_type": "code",
   "execution_count": 2,
   "metadata": {},
   "outputs": [],
   "source": [
    "# Let's now import all the required libraries.\n",
    "import selenium\n",
    "import pandas as pd\n",
    "from selenium import webdriver"
   ]
  },
  {
   "cell_type": "code",
   "execution_count": null,
   "metadata": {},
   "outputs": [],
   "source": [
    "# let's first connect to the web driver\n",
    "driver = webdriver.Chrome()"
   ]
  },
  {
   "cell_type": "markdown",
   "metadata": {},
   "source": [
    "Q2: Write a python program to scrape data for “Data Analyst” Job position in \n",
    "“Bangalore” location. You have to scrape the job-title, job-location, company_name,\n",
    "experience_required. You have to scrape first 10 jobs data"
   ]
  },
  {
   "cell_type": "markdown",
   "metadata": {},
   "source": []
  },
  {
   "cell_type": "code",
   "execution_count": 4,
   "metadata": {},
   "outputs": [],
   "source": [
    "url = \"https://www.naukri.com\"\n",
    "driver.get(url)"
   ]
  },
  {
   "cell_type": "code",
   "execution_count": 9,
   "metadata": {},
   "outputs": [
    {
     "data": {
      "text/plain": [
       "<selenium.webdriver.remote.webelement.WebElement (session=\"d8e71b3c3e3f839d9496870de33b48d6\", element=\"8e07a531-9164-4a45-a7f2-8b67ad5b01fb\")>"
      ]
     },
     "execution_count": 9,
     "metadata": {},
     "output_type": "execute_result"
    }
   ],
   "source": [
    "# finding element for job search bar\n",
    "search_job = driver.find_element_by_xpath(\"//input[@class='sugInp']\")\n",
    "search_job"
   ]
  },
  {
   "cell_type": "code",
   "execution_count": 14,
   "metadata": {},
   "outputs": [],
   "source": [
    "# write on search bar\n",
    "search_job.send_keys('Data Analyst')"
   ]
  },
  {
   "cell_type": "code",
   "execution_count": 15,
   "metadata": {},
   "outputs": [],
   "source": [
    "# finding element for job location bar\n",
    "search_loc=driver.find_element_by_id('qsb-location-sugg')\n",
    "search_loc.send_keys(\"Bangalore\")"
   ]
  },
  {
   "cell_type": "code",
   "execution_count": 17,
   "metadata": {},
   "outputs": [
    {
     "data": {
      "text/plain": [
       "<selenium.webdriver.remote.webelement.WebElement (session=\"d8e71b3c3e3f839d9496870de33b48d6\", element=\"05243454-1895-4054-8de1-33deddd15182\")>"
      ]
     },
     "execution_count": 17,
     "metadata": {},
     "output_type": "execute_result"
    }
   ],
   "source": [
    "search_btn= driver .find_element_by_xpath(\"//button[@class='btn']\")\n",
    "search_btn"
   ]
  },
  {
   "cell_type": "code",
   "execution_count": 19,
   "metadata": {},
   "outputs": [],
   "source": [
    "# clicking  using xpath function\n",
    "search_btn=driver.find_element_by_xpath(\"//button[@class='btn']\")\n",
    "search_btn.click()"
   ]
  },
  {
   "cell_type": "code",
   "execution_count": 21,
   "metadata": {},
   "outputs": [
    {
     "data": {
      "text/plain": [
       "[<selenium.webdriver.remote.webelement.WebElement (session=\"d8e71b3c3e3f839d9496870de33b48d6\", element=\"48cbdbaa-13ff-4507-9849-98e7d166106b\")>,\n",
       " <selenium.webdriver.remote.webelement.WebElement (session=\"d8e71b3c3e3f839d9496870de33b48d6\", element=\"3a678c9e-5d8d-4b33-b1c2-8fa1e7d951b4\")>,\n",
       " <selenium.webdriver.remote.webelement.WebElement (session=\"d8e71b3c3e3f839d9496870de33b48d6\", element=\"30f2bec4-f50b-4b6e-b96c-a11008a3c3ae\")>,\n",
       " <selenium.webdriver.remote.webelement.WebElement (session=\"d8e71b3c3e3f839d9496870de33b48d6\", element=\"a74843c4-6e6f-4056-97ff-7086eafccb50\")>,\n",
       " <selenium.webdriver.remote.webelement.WebElement (session=\"d8e71b3c3e3f839d9496870de33b48d6\", element=\"dbd0125c-f3a1-4c91-bb93-ffd5baeb0e13\")>,\n",
       " <selenium.webdriver.remote.webelement.WebElement (session=\"d8e71b3c3e3f839d9496870de33b48d6\", element=\"8a8358b6-cb01-4054-a934-1bafa4d82d8d\")>,\n",
       " <selenium.webdriver.remote.webelement.WebElement (session=\"d8e71b3c3e3f839d9496870de33b48d6\", element=\"cc21611c-acce-444e-9754-0a7a6207be8e\")>,\n",
       " <selenium.webdriver.remote.webelement.WebElement (session=\"d8e71b3c3e3f839d9496870de33b48d6\", element=\"fe193ed0-298b-40f4-93f5-556b1842ee4f\")>,\n",
       " <selenium.webdriver.remote.webelement.WebElement (session=\"d8e71b3c3e3f839d9496870de33b48d6\", element=\"5fe0cb71-c4ba-4650-a081-b9886d37f969\")>,\n",
       " <selenium.webdriver.remote.webelement.WebElement (session=\"d8e71b3c3e3f839d9496870de33b48d6\", element=\"c51f81bb-b483-40dd-94ee-115143b66b83\")>,\n",
       " <selenium.webdriver.remote.webelement.WebElement (session=\"d8e71b3c3e3f839d9496870de33b48d6\", element=\"306f04cd-8daa-4d07-9a11-ced8f1cb8c78\")>,\n",
       " <selenium.webdriver.remote.webelement.WebElement (session=\"d8e71b3c3e3f839d9496870de33b48d6\", element=\"0122ed5f-3d44-46e6-9ad8-7f1c98ba8e1f\")>,\n",
       " <selenium.webdriver.remote.webelement.WebElement (session=\"d8e71b3c3e3f839d9496870de33b48d6\", element=\"dd7a499c-b255-4996-89dd-91b2107db18a\")>,\n",
       " <selenium.webdriver.remote.webelement.WebElement (session=\"d8e71b3c3e3f839d9496870de33b48d6\", element=\"e56965f6-e517-42e1-bf41-2fb9f4af4925\")>,\n",
       " <selenium.webdriver.remote.webelement.WebElement (session=\"d8e71b3c3e3f839d9496870de33b48d6\", element=\"62ad72bf-42f9-46a3-b001-83900da2c8c5\")>,\n",
       " <selenium.webdriver.remote.webelement.WebElement (session=\"d8e71b3c3e3f839d9496870de33b48d6\", element=\"2ea8b4f6-5633-4e21-8d05-4a0cf0e5b2b6\")>,\n",
       " <selenium.webdriver.remote.webelement.WebElement (session=\"d8e71b3c3e3f839d9496870de33b48d6\", element=\"1a5ec700-d158-431f-b524-5d29098dde84\")>,\n",
       " <selenium.webdriver.remote.webelement.WebElement (session=\"d8e71b3c3e3f839d9496870de33b48d6\", element=\"4f67b285-5bbe-441d-a41a-0cc98f45e984\")>,\n",
       " <selenium.webdriver.remote.webelement.WebElement (session=\"d8e71b3c3e3f839d9496870de33b48d6\", element=\"49337ca2-a30d-4c37-a732-9944edd379cf\")>,\n",
       " <selenium.webdriver.remote.webelement.WebElement (session=\"d8e71b3c3e3f839d9496870de33b48d6\", element=\"88bdd5b7-98cb-4373-909b-51c73379f142\")>]"
      ]
     },
     "execution_count": 21,
     "metadata": {},
     "output_type": "execute_result"
    }
   ],
   "source": [
    "#so let's extract all the tags having the job titles\n",
    "title_tags=driver.find_elements_by_xpath(\"//a[@class='title fw500 ellipsis']\")\n",
    "title_tags"
   ]
  },
  {
   "cell_type": "code",
   "execution_count": 29,
   "metadata": {},
   "outputs": [
    {
     "data": {
      "text/plain": [
       "['Data Scientist / Data Analyst -Business Analyst',\n",
       " 'Senior Data Analyst - Data Lineage',\n",
       " 'Data analysts',\n",
       " 'Data Analyst - Informatica MDM',\n",
       " 'Excel VBA Jobs Bangalore | VBA data analyst Jobs',\n",
       " 'Data analysts',\n",
       " 'Business Data Analyst',\n",
       " 'Data Analyst',\n",
       " 'Data Analyst',\n",
       " 'Data Analyst - Category Demand Management (Revenue & Growth)']"
      ]
     },
     "execution_count": 29,
     "metadata": {},
     "output_type": "execute_result"
    }
   ],
   "source": [
    "# extract the text of the job title  from the tags\n",
    "job_titles=[]\n",
    "for i in title_tags:\n",
    "    if i.text is None:\n",
    "        job_titles.append('Not')\n",
    "    else:\n",
    "        job_titles.append(i.text)\n",
    "job_titles[:10]        "
   ]
  },
  {
   "cell_type": "code",
   "execution_count": 30,
   "metadata": {},
   "outputs": [
    {
     "data": {
      "text/plain": [
       "[<selenium.webdriver.remote.webelement.WebElement (session=\"d8e71b3c3e3f839d9496870de33b48d6\", element=\"a1d8740a-cbf1-4314-b6e7-6896ac900646\")>,\n",
       " <selenium.webdriver.remote.webelement.WebElement (session=\"d8e71b3c3e3f839d9496870de33b48d6\", element=\"65e28939-50e4-4ec9-b8fa-5265da3c420e\")>,\n",
       " <selenium.webdriver.remote.webelement.WebElement (session=\"d8e71b3c3e3f839d9496870de33b48d6\", element=\"8a979aa7-cbf9-4e1b-b9d9-727e59ccd278\")>,\n",
       " <selenium.webdriver.remote.webelement.WebElement (session=\"d8e71b3c3e3f839d9496870de33b48d6\", element=\"d25f1168-f469-4681-9f03-8eb86a60a3fe\")>,\n",
       " <selenium.webdriver.remote.webelement.WebElement (session=\"d8e71b3c3e3f839d9496870de33b48d6\", element=\"bafe2bf5-7ce3-40f6-b972-8bcc9e86d2e1\")>,\n",
       " <selenium.webdriver.remote.webelement.WebElement (session=\"d8e71b3c3e3f839d9496870de33b48d6\", element=\"5f34f475-968f-4a65-9ac7-06cff0269fb3\")>,\n",
       " <selenium.webdriver.remote.webelement.WebElement (session=\"d8e71b3c3e3f839d9496870de33b48d6\", element=\"1a51d6ee-8364-46e2-bc6b-ad2caf974cb6\")>,\n",
       " <selenium.webdriver.remote.webelement.WebElement (session=\"d8e71b3c3e3f839d9496870de33b48d6\", element=\"95002e19-3ce2-410e-83aa-1918c6da50e9\")>,\n",
       " <selenium.webdriver.remote.webelement.WebElement (session=\"d8e71b3c3e3f839d9496870de33b48d6\", element=\"4500aa2f-e986-4488-a144-b4c191a0816e\")>,\n",
       " <selenium.webdriver.remote.webelement.WebElement (session=\"d8e71b3c3e3f839d9496870de33b48d6\", element=\"b57ed452-1ac6-41f1-8bf7-1a5945ee22a9\")>,\n",
       " <selenium.webdriver.remote.webelement.WebElement (session=\"d8e71b3c3e3f839d9496870de33b48d6\", element=\"93a9a6df-8de0-4926-99ad-806b4daa964c\")>,\n",
       " <selenium.webdriver.remote.webelement.WebElement (session=\"d8e71b3c3e3f839d9496870de33b48d6\", element=\"a30b6e66-8a52-450f-b619-9fa8963a79fd\")>,\n",
       " <selenium.webdriver.remote.webelement.WebElement (session=\"d8e71b3c3e3f839d9496870de33b48d6\", element=\"0edc4865-1a61-4a07-8cb8-aa3c53e0bdf5\")>,\n",
       " <selenium.webdriver.remote.webelement.WebElement (session=\"d8e71b3c3e3f839d9496870de33b48d6\", element=\"cb90f6cd-5fac-4968-8877-ff6a0c6a7e59\")>,\n",
       " <selenium.webdriver.remote.webelement.WebElement (session=\"d8e71b3c3e3f839d9496870de33b48d6\", element=\"aae27ebd-88c8-4f34-8000-b91b01e56ae6\")>,\n",
       " <selenium.webdriver.remote.webelement.WebElement (session=\"d8e71b3c3e3f839d9496870de33b48d6\", element=\"794cb206-9fd5-47dd-ba21-4a5e0a879a0b\")>,\n",
       " <selenium.webdriver.remote.webelement.WebElement (session=\"d8e71b3c3e3f839d9496870de33b48d6\", element=\"6b2c9be4-6d7a-4275-be0f-2d5186737a1d\")>,\n",
       " <selenium.webdriver.remote.webelement.WebElement (session=\"d8e71b3c3e3f839d9496870de33b48d6\", element=\"4bad674f-d016-4c69-a116-4d4b48243bb3\")>,\n",
       " <selenium.webdriver.remote.webelement.WebElement (session=\"d8e71b3c3e3f839d9496870de33b48d6\", element=\"7fe27fb5-263a-4c3b-9034-747fa2092b6a\")>,\n",
       " <selenium.webdriver.remote.webelement.WebElement (session=\"d8e71b3c3e3f839d9496870de33b48d6\", element=\"080bfb4a-6c22-4eb0-ac03-5e0414033932\")>]"
      ]
     },
     "execution_count": 30,
     "metadata": {},
     "output_type": "execute_result"
    }
   ],
   "source": [
    "# lets extract all the tags having company names\n",
    "company_tags=driver.find_elements_by_xpath(\"//a[@class='subTitle ellipsis fleft']\")\n",
    "company_tags"
   ]
  },
  {
   "cell_type": "code",
   "execution_count": 33,
   "metadata": {},
   "outputs": [
    {
     "data": {
      "text/plain": [
       "['Inflexion Analytix Private Limited',\n",
       " 'Opex Global Services',\n",
       " 'IBM India Pvt. Limited',\n",
       " 'Shell India Markets Private Limited',\n",
       " 'Mind Circus Innovation',\n",
       " 'IBM India Pvt. Limited',\n",
       " 'dotSolved India Pvt., Ltd.',\n",
       " 'Myntra Designs Pvt. Ltd.',\n",
       " 'Myntra Designs Pvt. Ltd.',\n",
       " 'Myntra Designs Pvt. Ltd.']"
      ]
     },
     "execution_count": 33,
     "metadata": {},
     "output_type": "execute_result"
    }
   ],
   "source": [
    "# Now we will extract the text from the tags by looping over these tags\n",
    "companies_names=[]\n",
    "\n",
    "for i in company_tags:\n",
    "    companies_names.append(i.text)\n",
    "companies_names[:10]    "
   ]
  },
  {
   "cell_type": "code",
   "execution_count": 36,
   "metadata": {},
   "outputs": [
    {
     "data": {
      "text/plain": [
       "[<selenium.webdriver.remote.webelement.WebElement (session=\"d8e71b3c3e3f839d9496870de33b48d6\", element=\"2bbe2ee1-19c8-4c4d-852d-51a19926206d\")>,\n",
       " <selenium.webdriver.remote.webelement.WebElement (session=\"d8e71b3c3e3f839d9496870de33b48d6\", element=\"852ef2ab-3703-4f39-863f-3b5d53210e2d\")>,\n",
       " <selenium.webdriver.remote.webelement.WebElement (session=\"d8e71b3c3e3f839d9496870de33b48d6\", element=\"8d9c2f03-a5ab-4faa-ae78-4f50b0ce210e\")>,\n",
       " <selenium.webdriver.remote.webelement.WebElement (session=\"d8e71b3c3e3f839d9496870de33b48d6\", element=\"ebc7043a-5958-45f1-bcc6-2edf4e6b5327\")>,\n",
       " <selenium.webdriver.remote.webelement.WebElement (session=\"d8e71b3c3e3f839d9496870de33b48d6\", element=\"3efc2fd4-9b73-4850-9f01-ae9b7d2970e2\")>,\n",
       " <selenium.webdriver.remote.webelement.WebElement (session=\"d8e71b3c3e3f839d9496870de33b48d6\", element=\"a4d754fd-560d-46e7-ad4f-2c82fb55b7f7\")>,\n",
       " <selenium.webdriver.remote.webelement.WebElement (session=\"d8e71b3c3e3f839d9496870de33b48d6\", element=\"539c185e-b4b9-438e-9f9f-edfe0e698c01\")>,\n",
       " <selenium.webdriver.remote.webelement.WebElement (session=\"d8e71b3c3e3f839d9496870de33b48d6\", element=\"5e777d8c-c267-462c-b32e-7a5287eba886\")>,\n",
       " <selenium.webdriver.remote.webelement.WebElement (session=\"d8e71b3c3e3f839d9496870de33b48d6\", element=\"04aa6886-42d5-44db-874e-53c8c38c98f9\")>,\n",
       " <selenium.webdriver.remote.webelement.WebElement (session=\"d8e71b3c3e3f839d9496870de33b48d6\", element=\"7ccaf886-89b5-4829-9fec-5d38527e9a6d\")>,\n",
       " <selenium.webdriver.remote.webelement.WebElement (session=\"d8e71b3c3e3f839d9496870de33b48d6\", element=\"8f2c554e-4b83-47a3-9beb-e9b6db4a47ce\")>,\n",
       " <selenium.webdriver.remote.webelement.WebElement (session=\"d8e71b3c3e3f839d9496870de33b48d6\", element=\"eacb83ac-6480-4071-8ca7-8e32c0c24d90\")>,\n",
       " <selenium.webdriver.remote.webelement.WebElement (session=\"d8e71b3c3e3f839d9496870de33b48d6\", element=\"6f95620d-2630-49d5-87e9-b19d2839cb8a\")>,\n",
       " <selenium.webdriver.remote.webelement.WebElement (session=\"d8e71b3c3e3f839d9496870de33b48d6\", element=\"a6daf831-0345-45e3-b82a-1dea969bb518\")>,\n",
       " <selenium.webdriver.remote.webelement.WebElement (session=\"d8e71b3c3e3f839d9496870de33b48d6\", element=\"f876a079-d117-45e6-95f0-d987599e6c2e\")>,\n",
       " <selenium.webdriver.remote.webelement.WebElement (session=\"d8e71b3c3e3f839d9496870de33b48d6\", element=\"c2b0ca2f-b280-4467-8546-d1942e9e12d3\")>,\n",
       " <selenium.webdriver.remote.webelement.WebElement (session=\"d8e71b3c3e3f839d9496870de33b48d6\", element=\"5ea854b2-3f2e-4e17-b11c-d5ab9f77e7b6\")>,\n",
       " <selenium.webdriver.remote.webelement.WebElement (session=\"d8e71b3c3e3f839d9496870de33b48d6\", element=\"39176eba-8a78-4d17-82a5-137cd2b64819\")>,\n",
       " <selenium.webdriver.remote.webelement.WebElement (session=\"d8e71b3c3e3f839d9496870de33b48d6\", element=\"0288134b-a693-4d54-94c3-4a5964f96257\")>,\n",
       " <selenium.webdriver.remote.webelement.WebElement (session=\"d8e71b3c3e3f839d9496870de33b48d6\", element=\"35206cb6-317a-4c76-b7ff-8f8898974b12\")>]"
      ]
     },
     "execution_count": 36,
     "metadata": {},
     "output_type": "execute_result"
    }
   ],
   "source": [
    "# so lets extract  all the tags having the experience required data\n",
    "experience_tags=driver.find_elements_by_xpath(\"//li[@class='fleft grey-text br2 placeHolderLi experience'] //span\")\n",
    "experience_tags"
   ]
  },
  {
   "cell_type": "code",
   "execution_count": 38,
   "metadata": {},
   "outputs": [
    {
     "data": {
      "text/plain": [
       "['0-3 Yrs',\n",
       " '5-10 Yrs',\n",
       " '5-6 Yrs',\n",
       " '6-9 Yrs',\n",
       " '0-1 Yrs',\n",
       " '3-5 Yrs',\n",
       " '9-13 Yrs',\n",
       " '3-5 Yrs',\n",
       " '3-8 Yrs',\n",
       " '1-4 Yrs']"
      ]
     },
     "execution_count": 38,
     "metadata": {},
     "output_type": "execute_result"
    }
   ],
   "source": [
    "# no we will extract the text  from these tags only by one by looping over these tags\n",
    "experience_list=[]\n",
    "for i in experience_tags:\n",
    "    experience_list.append(i.text)\n",
    "experience_list[:10]   "
   ]
  },
  {
   "cell_type": "code",
   "execution_count": 40,
   "metadata": {},
   "outputs": [
    {
     "data": {
      "text/plain": [
       "[<selenium.webdriver.remote.webelement.WebElement (session=\"d8e71b3c3e3f839d9496870de33b48d6\", element=\"6c663e32-a5e7-4699-8614-2dff752e0c5e\")>,\n",
       " <selenium.webdriver.remote.webelement.WebElement (session=\"d8e71b3c3e3f839d9496870de33b48d6\", element=\"97b19045-90d7-4fab-a36a-3731c7f3e22d\")>,\n",
       " <selenium.webdriver.remote.webelement.WebElement (session=\"d8e71b3c3e3f839d9496870de33b48d6\", element=\"6ba97d71-9582-4c1d-b961-1dfedb701f8f\")>,\n",
       " <selenium.webdriver.remote.webelement.WebElement (session=\"d8e71b3c3e3f839d9496870de33b48d6\", element=\"48691cf1-ab76-424d-9e72-2c8aaf319d8e\")>,\n",
       " <selenium.webdriver.remote.webelement.WebElement (session=\"d8e71b3c3e3f839d9496870de33b48d6\", element=\"cc32dae9-6c3e-42e4-8459-648d22460c71\")>,\n",
       " <selenium.webdriver.remote.webelement.WebElement (session=\"d8e71b3c3e3f839d9496870de33b48d6\", element=\"eff92e60-989b-4058-8b4f-1f47982ad3d6\")>,\n",
       " <selenium.webdriver.remote.webelement.WebElement (session=\"d8e71b3c3e3f839d9496870de33b48d6\", element=\"44e300f7-1112-4469-a474-fa08987efc25\")>,\n",
       " <selenium.webdriver.remote.webelement.WebElement (session=\"d8e71b3c3e3f839d9496870de33b48d6\", element=\"80f33aac-53ce-4183-bbc8-aa37f1e4b2ae\")>,\n",
       " <selenium.webdriver.remote.webelement.WebElement (session=\"d8e71b3c3e3f839d9496870de33b48d6\", element=\"02062a98-6728-443e-b1bc-606474c5c8b6\")>,\n",
       " <selenium.webdriver.remote.webelement.WebElement (session=\"d8e71b3c3e3f839d9496870de33b48d6\", element=\"6651b4ec-2808-4e76-939f-2470405d64eb\")>,\n",
       " <selenium.webdriver.remote.webelement.WebElement (session=\"d8e71b3c3e3f839d9496870de33b48d6\", element=\"13139ffa-87d7-49bd-83f4-2c277a96f0f9\")>,\n",
       " <selenium.webdriver.remote.webelement.WebElement (session=\"d8e71b3c3e3f839d9496870de33b48d6\", element=\"597e6019-3913-40f3-b6ad-f6b81d2f9b91\")>,\n",
       " <selenium.webdriver.remote.webelement.WebElement (session=\"d8e71b3c3e3f839d9496870de33b48d6\", element=\"f3ffd506-ca6c-4b1a-bf11-1ccbf2f54a82\")>,\n",
       " <selenium.webdriver.remote.webelement.WebElement (session=\"d8e71b3c3e3f839d9496870de33b48d6\", element=\"b623504c-df9d-453a-aebd-751404a489f5\")>,\n",
       " <selenium.webdriver.remote.webelement.WebElement (session=\"d8e71b3c3e3f839d9496870de33b48d6\", element=\"d84347c7-83f4-4a97-8a2d-28aea55a4a96\")>,\n",
       " <selenium.webdriver.remote.webelement.WebElement (session=\"d8e71b3c3e3f839d9496870de33b48d6\", element=\"3f9cc88b-3c2f-45a9-a382-9a6e8c0867ca\")>,\n",
       " <selenium.webdriver.remote.webelement.WebElement (session=\"d8e71b3c3e3f839d9496870de33b48d6\", element=\"044857a3-679d-4ff9-8d5d-44225e7891a8\")>,\n",
       " <selenium.webdriver.remote.webelement.WebElement (session=\"d8e71b3c3e3f839d9496870de33b48d6\", element=\"a42d92cb-bbbb-44d3-8bcc-cef62cdf6488\")>,\n",
       " <selenium.webdriver.remote.webelement.WebElement (session=\"d8e71b3c3e3f839d9496870de33b48d6\", element=\"dc95e43d-06d8-4ce4-81d4-c9b4b70f70d4\")>,\n",
       " <selenium.webdriver.remote.webelement.WebElement (session=\"d8e71b3c3e3f839d9496870de33b48d6\", element=\"701d00d3-4790-433d-b8bd-55a5e001d1fb\")>]"
      ]
     },
     "execution_count": 40,
     "metadata": {},
     "output_type": "execute_result"
    }
   ],
   "source": [
    "locations_tags=driver.find_elements_by_xpath(\"//li[@class='fleft grey-text br2 placeHolderLi location']/span\")\n",
    "locations_tags"
   ]
  },
  {
   "cell_type": "code",
   "execution_count": 42,
   "metadata": {},
   "outputs": [
    {
     "data": {
      "text/plain": [
       "['Mumbai, Hyderabad/Secunderabad, Pune, Gurgaon/Gurugram, Chennai, Bangalore/Bengaluru',\n",
       " 'Bangalore/Bengaluru',\n",
       " 'Bengaluru/Bangalore',\n",
       " 'Bangalore/Bengaluru',\n",
       " 'Mysore/Mysuru, Coimbatore, Bangalore/Bengaluru',\n",
       " 'Bangalore/Bengaluru',\n",
       " 'Chennai, Bangalore/Bengaluru, Mumbai (All Areas)',\n",
       " 'Bangalore/Bengaluru',\n",
       " 'Bangalore/Bengaluru',\n",
       " 'Bangalore/Bengaluru']"
      ]
     },
     "execution_count": 42,
     "metadata": {},
     "output_type": "execute_result"
    }
   ],
   "source": [
    "locations_list=[]\n",
    "for i in locations_tags:\n",
    "    locations_list.append(i.text)\n",
    "locations_list[:10]    "
   ]
  },
  {
   "cell_type": "code",
   "execution_count": 43,
   "metadata": {},
   "outputs": [
    {
     "name": "stdout",
     "output_type": "stream",
     "text": [
      "10\n",
      "10\n",
      "10\n",
      "10\n"
     ]
    },
    {
     "data": {
      "text/plain": [
       "(None, None, None, None)"
      ]
     },
     "execution_count": 43,
     "metadata": {},
     "output_type": "execute_result"
    }
   ],
   "source": [
    "#So lets check th length of ech element.\n",
    "print(len(job_titles[:10])),print(len(companies_names[:10])),print(len(experience_list[:10])),print(len(locations_list[:10]))"
   ]
  },
  {
   "cell_type": "markdown",
   "metadata": {},
   "source": [
    "# Creating a DataFarme for the Data Analyst jobs"
   ]
  },
  {
   "cell_type": "code",
   "execution_count": 47,
   "metadata": {},
   "outputs": [],
   "source": [
    "jobs=pd.DataFrame({})\n",
    "jobs['title']=job_titles[:10]\n",
    "jobs['company']=companies_names[:10]\n",
    "jobs['experience_required']=experience_list[:10]\n",
    "jobs['location']=locations_list[:10]"
   ]
  },
  {
   "cell_type": "code",
   "execution_count": 48,
   "metadata": {},
   "outputs": [
    {
     "data": {
      "text/html": [
       "<div>\n",
       "<style scoped>\n",
       "    .dataframe tbody tr th:only-of-type {\n",
       "        vertical-align: middle;\n",
       "    }\n",
       "\n",
       "    .dataframe tbody tr th {\n",
       "        vertical-align: top;\n",
       "    }\n",
       "\n",
       "    .dataframe thead th {\n",
       "        text-align: right;\n",
       "    }\n",
       "</style>\n",
       "<table border=\"1\" class=\"dataframe\">\n",
       "  <thead>\n",
       "    <tr style=\"text-align: right;\">\n",
       "      <th></th>\n",
       "      <th>title</th>\n",
       "      <th>company</th>\n",
       "      <th>experience_required</th>\n",
       "      <th>location</th>\n",
       "    </tr>\n",
       "  </thead>\n",
       "  <tbody>\n",
       "    <tr>\n",
       "      <th>0</th>\n",
       "      <td>Data Scientist / Data Analyst -Business Analyst</td>\n",
       "      <td>Inflexion Analytix Private Limited</td>\n",
       "      <td>0-3 Yrs</td>\n",
       "      <td>Mumbai, Hyderabad/Secunderabad, Pune, Gurgaon/...</td>\n",
       "    </tr>\n",
       "    <tr>\n",
       "      <th>1</th>\n",
       "      <td>Senior Data Analyst - Data Lineage</td>\n",
       "      <td>Opex Global Services</td>\n",
       "      <td>5-10 Yrs</td>\n",
       "      <td>Bangalore/Bengaluru</td>\n",
       "    </tr>\n",
       "    <tr>\n",
       "      <th>2</th>\n",
       "      <td>Data analysts</td>\n",
       "      <td>IBM India Pvt. Limited</td>\n",
       "      <td>5-6 Yrs</td>\n",
       "      <td>Bengaluru/Bangalore</td>\n",
       "    </tr>\n",
       "    <tr>\n",
       "      <th>3</th>\n",
       "      <td>Data Analyst - Informatica MDM</td>\n",
       "      <td>Shell India Markets Private Limited</td>\n",
       "      <td>6-9 Yrs</td>\n",
       "      <td>Bangalore/Bengaluru</td>\n",
       "    </tr>\n",
       "    <tr>\n",
       "      <th>4</th>\n",
       "      <td>Excel VBA Jobs Bangalore | VBA data analyst Jobs</td>\n",
       "      <td>Mind Circus Innovation</td>\n",
       "      <td>0-1 Yrs</td>\n",
       "      <td>Mysore/Mysuru, Coimbatore, Bangalore/Bengaluru</td>\n",
       "    </tr>\n",
       "    <tr>\n",
       "      <th>5</th>\n",
       "      <td>Data analysts</td>\n",
       "      <td>IBM India Pvt. Limited</td>\n",
       "      <td>3-5 Yrs</td>\n",
       "      <td>Bangalore/Bengaluru</td>\n",
       "    </tr>\n",
       "    <tr>\n",
       "      <th>6</th>\n",
       "      <td>Business Data Analyst</td>\n",
       "      <td>dotSolved India Pvt., Ltd.</td>\n",
       "      <td>9-13 Yrs</td>\n",
       "      <td>Chennai, Bangalore/Bengaluru, Mumbai (All Areas)</td>\n",
       "    </tr>\n",
       "    <tr>\n",
       "      <th>7</th>\n",
       "      <td>Data Analyst</td>\n",
       "      <td>Myntra Designs Pvt. Ltd.</td>\n",
       "      <td>3-5 Yrs</td>\n",
       "      <td>Bangalore/Bengaluru</td>\n",
       "    </tr>\n",
       "    <tr>\n",
       "      <th>8</th>\n",
       "      <td>Data Analyst</td>\n",
       "      <td>Myntra Designs Pvt. Ltd.</td>\n",
       "      <td>3-8 Yrs</td>\n",
       "      <td>Bangalore/Bengaluru</td>\n",
       "    </tr>\n",
       "    <tr>\n",
       "      <th>9</th>\n",
       "      <td>Data Analyst - Category Demand Management (Rev...</td>\n",
       "      <td>Myntra Designs Pvt. Ltd.</td>\n",
       "      <td>1-4 Yrs</td>\n",
       "      <td>Bangalore/Bengaluru</td>\n",
       "    </tr>\n",
       "  </tbody>\n",
       "</table>\n",
       "</div>"
      ],
      "text/plain": [
       "                                               title  \\\n",
       "0    Data Scientist / Data Analyst -Business Analyst   \n",
       "1                 Senior Data Analyst - Data Lineage   \n",
       "2                                      Data analysts   \n",
       "3                     Data Analyst - Informatica MDM   \n",
       "4   Excel VBA Jobs Bangalore | VBA data analyst Jobs   \n",
       "5                                      Data analysts   \n",
       "6                              Business Data Analyst   \n",
       "7                                       Data Analyst   \n",
       "8                                       Data Analyst   \n",
       "9  Data Analyst - Category Demand Management (Rev...   \n",
       "\n",
       "                               company experience_required  \\\n",
       "0   Inflexion Analytix Private Limited             0-3 Yrs   \n",
       "1                 Opex Global Services            5-10 Yrs   \n",
       "2               IBM India Pvt. Limited             5-6 Yrs   \n",
       "3  Shell India Markets Private Limited             6-9 Yrs   \n",
       "4               Mind Circus Innovation             0-1 Yrs   \n",
       "5               IBM India Pvt. Limited             3-5 Yrs   \n",
       "6           dotSolved India Pvt., Ltd.            9-13 Yrs   \n",
       "7             Myntra Designs Pvt. Ltd.             3-5 Yrs   \n",
       "8             Myntra Designs Pvt. Ltd.             3-8 Yrs   \n",
       "9             Myntra Designs Pvt. Ltd.             1-4 Yrs   \n",
       "\n",
       "                                            location  \n",
       "0  Mumbai, Hyderabad/Secunderabad, Pune, Gurgaon/...  \n",
       "1                                Bangalore/Bengaluru  \n",
       "2                                Bengaluru/Bangalore  \n",
       "3                                Bangalore/Bengaluru  \n",
       "4     Mysore/Mysuru, Coimbatore, Bangalore/Bengaluru  \n",
       "5                                Bangalore/Bengaluru  \n",
       "6   Chennai, Bangalore/Bengaluru, Mumbai (All Areas)  \n",
       "7                                Bangalore/Bengaluru  \n",
       "8                                Bangalore/Bengaluru  \n",
       "9                                Bangalore/Bengaluru  "
      ]
     },
     "execution_count": 48,
     "metadata": {},
     "output_type": "execute_result"
    }
   ],
   "source": [
    "jobs"
   ]
  },
  {
   "cell_type": "markdown",
   "metadata": {},
   "source": [
    "We can see that we have created the datset named jobs."
   ]
  },
  {
   "cell_type": "code",
   "execution_count": 49,
   "metadata": {},
   "outputs": [],
   "source": [
    "driver.close()"
   ]
  },
  {
   "cell_type": "code",
   "execution_count": 1,
   "metadata": {},
   "outputs": [],
   "source": [
    "from selenium.common.exceptions import NoSuchElementException"
   ]
  },
  {
   "cell_type": "markdown",
   "metadata": {},
   "source": [
    "# Ques 3"
   ]
  },
  {
   "cell_type": "markdown",
   "metadata": {},
   "source": [
    "Q3 : Scrape data of first 100 sunglasses listings on flipkart.com. You have to \n",
    "scrape four attributes:\n",
    "    \n",
    "1. Brand\n",
    "\n",
    "2. Product Description\n",
    "\n",
    "3. Price\n",
    "\n",
    "4. Discount %\n",
    "\n",
    "The attributes which you have to scrape is ticked marked in the below image."
   ]
  },
  {
   "cell_type": "code",
   "execution_count": 12,
   "metadata": {},
   "outputs": [],
   "source": [
    "# let's first connect to the web driver\n",
    "driver = webdriver.Chrome()"
   ]
  },
  {
   "cell_type": "code",
   "execution_count": 13,
   "metadata": {},
   "outputs": [],
   "source": [
    "url=\"https://www.flipkart.com/\"\n",
    "driver.get(url)"
   ]
  },
  {
   "cell_type": "code",
   "execution_count": 14,
   "metadata": {},
   "outputs": [
    {
     "data": {
      "text/plain": [
       "<selenium.webdriver.remote.webelement.WebElement (session=\"7de1388e5d05f853d22155b31da7a0dc\", element=\"4c50b02a-7a13-41a4-ab43-5783dea9b58e\")>"
      ]
     },
     "execution_count": 14,
     "metadata": {},
     "output_type": "execute_result"
    }
   ],
   "source": [
    "# finding element for job search bar\n",
    "search_g= driver.find_element_by_xpath(\"//input[@type='text']\")\n",
    "search_g"
   ]
  },
  {
   "cell_type": "code",
   "execution_count": 15,
   "metadata": {},
   "outputs": [],
   "source": [
    "# write on search bar\n",
    "search_g.send_keys('sunglasses')"
   ]
  },
  {
   "cell_type": "code",
   "execution_count": 16,
   "metadata": {},
   "outputs": [
    {
     "data": {
      "text/plain": [
       "<selenium.webdriver.remote.webelement.WebElement (session=\"7de1388e5d05f853d22155b31da7a0dc\", element=\"6ff1a9a5-5dcd-4dce-959c-3a7ae8563e95\")>"
      ]
     },
     "execution_count": 16,
     "metadata": {},
     "output_type": "execute_result"
    }
   ],
   "source": [
    "search_btn=driver.find_element_by_xpath(\"//button[@class='L0Z3Pu']\")\n",
    "search_btn"
   ]
  },
  {
   "cell_type": "code",
   "execution_count": 17,
   "metadata": {},
   "outputs": [],
   "source": [
    "search_btn=driver.find_element_by_class_name('L0Z3Pu')\n",
    "search_btn.click()"
   ]
  },
  {
   "cell_type": "code",
   "execution_count": 23,
   "metadata": {},
   "outputs": [],
   "source": [
    "B_name=[]\n",
    "Price=[]\n",
    "P_desc=[]\n",
    "Discount=[]"
   ]
  },
  {
   "cell_type": "code",
   "execution_count": 25,
   "metadata": {},
   "outputs": [],
   "source": [
    "for i in range(3):\n",
    "    b_name=driver.find_elements_by_xpath(\"//div[@class='_2WkVRV']\")\n",
    "    p_desc=driver.find_elements_by_xpath(\"//a[@class='IRpwTa']\")\n",
    "    price =driver.find_elements_by_xpath(\"//div[@class='_25b18c']\")\n",
    "    discount=driver.find_elements_by_xpath(\"//div[@class='_3Ay6Sb']\")\n",
    "    \n",
    "    for j  in b_name:\n",
    "        B_name.append(j.text)\n",
    "    B_name[:100]    \n",
    "    \n",
    "    \n",
    "    \n",
    "    for k in p_desc:\n",
    "        P_desc.append(k.text)\n",
    "    P_desc[:100] \n",
    "    \n",
    "    \n",
    "    for l in price:\n",
    "        Price.append(l.text)\n",
    "    Price[:100] \n",
    "    \n",
    "    \n",
    "    for t in discount:\n",
    "        Discount.append(t.text)\n",
    "    Discount[:100]"
   ]
  },
  {
   "cell_type": "code",
   "execution_count": 26,
   "metadata": {},
   "outputs": [
    {
     "data": {
      "text/plain": [
       "['PIRASO',\n",
       " 'Fastrack',\n",
       " 'Fastrack',\n",
       " 'kingsunglasses',\n",
       " 'PIRASO',\n",
       " 'PIRASO',\n",
       " 'Fastrack',\n",
       " 'PIRASO',\n",
       " 'DEIXELS',\n",
       " 'GANSTA',\n",
       " 'ROZZETTA CRAFT',\n",
       " 'Fastrack',\n",
       " 'PIRASO',\n",
       " 'Singco',\n",
       " 'elegante',\n",
       " 'NuVew',\n",
       " 'Silver Kartz',\n",
       " 'ROZZETTA CRAFT',\n",
       " 'PHENOMENAL',\n",
       " 'PHENOMENAL',\n",
       " 'HIPPON',\n",
       " 'Singco India',\n",
       " 'Singco India',\n",
       " 'ROYAL SON',\n",
       " 'ROYAL SON',\n",
       " 'Singco India',\n",
       " 'ROZZETTA CRAFT',\n",
       " 'NuVew',\n",
       " 'Fastrack',\n",
       " 'Singco India',\n",
       " 'ROYAL SON',\n",
       " 'hipe',\n",
       " 'ROZZETTA CRAFT',\n",
       " 'ROYAL SON',\n",
       " 'NuVew',\n",
       " 'GANSTA',\n",
       " 'PHENOMENAL',\n",
       " 'ROZZETTA CRAFT',\n",
       " 'ROZZETTA CRAFT',\n",
       " 'PHENOMENAL',\n",
       " 'PIRASO',\n",
       " 'Fastrack',\n",
       " 'Fastrack',\n",
       " 'kingsunglasses',\n",
       " 'PIRASO',\n",
       " 'PIRASO',\n",
       " 'Fastrack',\n",
       " 'PIRASO',\n",
       " 'DEIXELS',\n",
       " 'GANSTA',\n",
       " 'ROZZETTA CRAFT',\n",
       " 'Fastrack',\n",
       " 'PIRASO',\n",
       " 'Singco',\n",
       " 'elegante',\n",
       " 'NuVew',\n",
       " 'Silver Kartz',\n",
       " 'ROZZETTA CRAFT',\n",
       " 'PHENOMENAL',\n",
       " 'PHENOMENAL',\n",
       " 'HIPPON',\n",
       " 'Singco India',\n",
       " 'Singco India',\n",
       " 'ROYAL SON',\n",
       " 'ROYAL SON',\n",
       " 'Singco India',\n",
       " 'ROZZETTA CRAFT',\n",
       " 'NuVew',\n",
       " 'Fastrack',\n",
       " 'Singco India',\n",
       " 'ROYAL SON',\n",
       " 'hipe',\n",
       " 'ROZZETTA CRAFT',\n",
       " 'ROYAL SON',\n",
       " 'NuVew',\n",
       " 'GANSTA',\n",
       " 'PHENOMENAL',\n",
       " 'ROZZETTA CRAFT',\n",
       " 'ROZZETTA CRAFT',\n",
       " 'PHENOMENAL',\n",
       " 'PIRASO',\n",
       " 'Fastrack',\n",
       " 'Fastrack',\n",
       " 'kingsunglasses',\n",
       " 'PIRASO',\n",
       " 'PIRASO',\n",
       " 'Fastrack',\n",
       " 'PIRASO',\n",
       " 'DEIXELS',\n",
       " 'GANSTA',\n",
       " 'ROZZETTA CRAFT',\n",
       " 'Fastrack',\n",
       " 'PIRASO',\n",
       " 'Singco',\n",
       " 'elegante',\n",
       " 'NuVew',\n",
       " 'Silver Kartz',\n",
       " 'ROZZETTA CRAFT',\n",
       " 'PHENOMENAL',\n",
       " 'PHENOMENAL']"
      ]
     },
     "execution_count": 26,
     "metadata": {},
     "output_type": "execute_result"
    }
   ],
   "source": [
    "B_name[:100]\n",
    "    "
   ]
  },
  {
   "cell_type": "code",
   "execution_count": 27,
   "metadata": {},
   "outputs": [
    {
     "name": "stdout",
     "output_type": "stream",
     "text": [
      "100\n",
      "100\n",
      "100\n",
      "100\n"
     ]
    },
    {
     "data": {
      "text/plain": [
       "(None, None, None, None)"
      ]
     },
     "execution_count": 27,
     "metadata": {},
     "output_type": "execute_result"
    }
   ],
   "source": [
    "print(len(B_name[:100])),print(len(Price[:100])),print(len(P_desc[:100])),print(len(Discount[:100]))"
   ]
  },
  {
   "cell_type": "markdown",
   "metadata": {},
   "source": [
    "# Creating a dataframe of the above data"
   ]
  },
  {
   "cell_type": "code",
   "execution_count": 29,
   "metadata": {},
   "outputs": [],
   "source": [
    "sun_gl=pd.DataFrame({})\n",
    "sun_gl['Brand_name']=B_name[:100]\n",
    "sun_gl['P_price']=Price[:100]\n",
    "sun_gl['Pr_desc']=P_desc[:100]\n",
    "sun_gl['P_discount']=Discount[:100]"
   ]
  },
  {
   "cell_type": "code",
   "execution_count": 31,
   "metadata": {},
   "outputs": [
    {
     "data": {
      "text/html": [
       "<div>\n",
       "<style scoped>\n",
       "    .dataframe tbody tr th:only-of-type {\n",
       "        vertical-align: middle;\n",
       "    }\n",
       "\n",
       "    .dataframe tbody tr th {\n",
       "        vertical-align: top;\n",
       "    }\n",
       "\n",
       "    .dataframe thead th {\n",
       "        text-align: right;\n",
       "    }\n",
       "</style>\n",
       "<table border=\"1\" class=\"dataframe\">\n",
       "  <thead>\n",
       "    <tr style=\"text-align: right;\">\n",
       "      <th></th>\n",
       "      <th>Brand_name</th>\n",
       "      <th>P_price</th>\n",
       "      <th>Pr_desc</th>\n",
       "      <th>P_discount</th>\n",
       "    </tr>\n",
       "  </thead>\n",
       "  <tbody>\n",
       "    <tr>\n",
       "      <th>0</th>\n",
       "      <td>PIRASO</td>\n",
       "      <td>₹237₹1,59985% off</td>\n",
       "      <td>UV Protection Aviator Sunglasses (54)</td>\n",
       "      <td>85% off</td>\n",
       "    </tr>\n",
       "    <tr>\n",
       "      <th>1</th>\n",
       "      <td>Fastrack</td>\n",
       "      <td>₹570₹79928% off</td>\n",
       "      <td>UV Protection Rectangular Sunglasses (Free Size)</td>\n",
       "      <td>28% off</td>\n",
       "    </tr>\n",
       "    <tr>\n",
       "      <th>2</th>\n",
       "      <td>Fastrack</td>\n",
       "      <td>₹621₹79922% off</td>\n",
       "      <td>Gradient, UV Protection Wayfarer Sunglasses (F...</td>\n",
       "      <td>22% off</td>\n",
       "    </tr>\n",
       "    <tr>\n",
       "      <th>3</th>\n",
       "      <td>kingsunglasses</td>\n",
       "      <td>₹299₹2,59988% off</td>\n",
       "      <td>Mirrored, UV Protection Wayfarer Sunglasses (F...</td>\n",
       "      <td>88% off</td>\n",
       "    </tr>\n",
       "    <tr>\n",
       "      <th>4</th>\n",
       "      <td>PIRASO</td>\n",
       "      <td>₹237₹1,59985% off</td>\n",
       "      <td>UV Protection Aviator Sunglasses (54)</td>\n",
       "      <td>85% off</td>\n",
       "    </tr>\n",
       "    <tr>\n",
       "      <th>...</th>\n",
       "      <td>...</td>\n",
       "      <td>...</td>\n",
       "      <td>...</td>\n",
       "      <td>...</td>\n",
       "    </tr>\n",
       "    <tr>\n",
       "      <th>95</th>\n",
       "      <td>NuVew</td>\n",
       "      <td>₹331₹1,59979% off</td>\n",
       "      <td>UV Protection Aviator Sunglasses (57)</td>\n",
       "      <td>79% off</td>\n",
       "    </tr>\n",
       "    <tr>\n",
       "      <th>96</th>\n",
       "      <td>Silver Kartz</td>\n",
       "      <td>₹733₹89918% off</td>\n",
       "      <td>UV Protection Wayfarer Sunglasses (Free Size)</td>\n",
       "      <td>83% off</td>\n",
       "    </tr>\n",
       "    <tr>\n",
       "      <th>97</th>\n",
       "      <td>ROZZETTA CRAFT</td>\n",
       "      <td>₹331₹2,59987% off</td>\n",
       "      <td>UV Protection, Gradient Rectangular Sunglasses...</td>\n",
       "      <td>77% off</td>\n",
       "    </tr>\n",
       "    <tr>\n",
       "      <th>98</th>\n",
       "      <td>PHENOMENAL</td>\n",
       "      <td>₹213₹1,19982% off</td>\n",
       "      <td>UV Protection, Mirrored Retro Square Sunglasse...</td>\n",
       "      <td>80% off</td>\n",
       "    </tr>\n",
       "    <tr>\n",
       "      <th>99</th>\n",
       "      <td>PHENOMENAL</td>\n",
       "      <td>₹281₹1,99985% off</td>\n",
       "      <td>UV Protection Retro Square Sunglasses (Free Size)</td>\n",
       "      <td>80% off</td>\n",
       "    </tr>\n",
       "  </tbody>\n",
       "</table>\n",
       "<p>100 rows × 4 columns</p>\n",
       "</div>"
      ],
      "text/plain": [
       "        Brand_name            P_price  \\\n",
       "0           PIRASO  ₹237₹1,59985% off   \n",
       "1         Fastrack    ₹570₹79928% off   \n",
       "2         Fastrack    ₹621₹79922% off   \n",
       "3   kingsunglasses  ₹299₹2,59988% off   \n",
       "4           PIRASO  ₹237₹1,59985% off   \n",
       "..             ...                ...   \n",
       "95           NuVew  ₹331₹1,59979% off   \n",
       "96    Silver Kartz    ₹733₹89918% off   \n",
       "97  ROZZETTA CRAFT  ₹331₹2,59987% off   \n",
       "98      PHENOMENAL  ₹213₹1,19982% off   \n",
       "99      PHENOMENAL  ₹281₹1,99985% off   \n",
       "\n",
       "                                              Pr_desc P_discount  \n",
       "0               UV Protection Aviator Sunglasses (54)    85% off  \n",
       "1    UV Protection Rectangular Sunglasses (Free Size)    28% off  \n",
       "2   Gradient, UV Protection Wayfarer Sunglasses (F...    22% off  \n",
       "3   Mirrored, UV Protection Wayfarer Sunglasses (F...    88% off  \n",
       "4               UV Protection Aviator Sunglasses (54)    85% off  \n",
       "..                                                ...        ...  \n",
       "95              UV Protection Aviator Sunglasses (57)    79% off  \n",
       "96      UV Protection Wayfarer Sunglasses (Free Size)    83% off  \n",
       "97  UV Protection, Gradient Rectangular Sunglasses...    77% off  \n",
       "98  UV Protection, Mirrored Retro Square Sunglasse...    80% off  \n",
       "99  UV Protection Retro Square Sunglasses (Free Size)    80% off  \n",
       "\n",
       "[100 rows x 4 columns]"
      ]
     },
     "execution_count": 31,
     "metadata": {},
     "output_type": "execute_result"
    }
   ],
   "source": [
    "sun_gl"
   ]
  },
  {
   "cell_type": "markdown",
   "metadata": {},
   "source": [
    "#We can see that we have created the dataframe."
   ]
  },
  {
   "cell_type": "code",
   "execution_count": 32,
   "metadata": {},
   "outputs": [],
   "source": [
    "driver.close()"
   ]
  },
  {
   "cell_type": "markdown",
   "metadata": {},
   "source": [
    "Q1: Write a python program to scrape data for “Data Analyst” Job position in “Bangalore” location. \n",
    "You have to scrape the job-title, job-location, company_name, experience_required. You have to \n",
    "scrape first 10 jobs data. \n",
    "This task will be done in following steps: \n",
    "1. First get the webpage https://www.shine.com/ "
   ]
  },
  {
   "cell_type": "code",
   "execution_count": null,
   "metadata": {},
   "outputs": [],
   "source": [
    "# Get the webpage\n",
    "url = \"https://www.shine.com\"\n",
    "response = requests.get(url)\n",
    "\n",
    "# Enter search criteria\n",
    "job_title = \"Data Analyst\"\n",
    "location = \"Bangalore\"\n",
    "\n",
    "# Perform search\n",
    "search_url = f\"{url}/job-search/{job_title}-jobs-in-{location}\"\n",
    "response = requests.get(search_url)\n",
    "\n",
    "# Scrape data for the first 10 jobs\n",
    "soup = BeautifulSoup(response.content, \"html.parser\")\n",
    "job_results = soup.find_all(\"li\", class_=\"search_listing\")\n",
    "\n",
    "data = []\n",
    "for job in job_results[:10]:\n",
    "  title = job.find(\"h2\").text.strip()\n",
    "  company = job.find(\"span\", class_=\"company_name\").text.strip()\n",
    "  location = job.find(\"span\", class_=\"location\").text.strip()\n",
    "  experience = job.find(\"span\", class_=\"exp\").text.strip()\n",
    "\n",
    "  data.append({\n",
    "  \"Job Title\": title,\n",
    "  \"Company Name\": company,\n",
    "  \"Job Location\": location,\n",
    "  \"Experience Required\": experience\n",
    "  })\n",
    "\n",
    "# Create a dataframe of the scraped data\n",
    "df = pd.DataFrame(data)\n",
    "print(df)"
   ]
  }
 ],
 "metadata": {
  "kernelspec": {
   "display_name": "Python 3",
   "language": "python",
   "name": "python3"
  },
  "language_info": {
   "codemirror_mode": {
    "name": "ipython",
    "version": 3
   },
   "file_extension": ".py",
   "mimetype": "text/x-python",
   "name": "python",
   "nbconvert_exporter": "python",
   "pygments_lexer": "ipython3",
   "version": "3.8.5"
  }
 },
 "nbformat": 4,
 "nbformat_minor": 4
}
