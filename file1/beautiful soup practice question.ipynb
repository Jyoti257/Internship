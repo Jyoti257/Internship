{
 "cells": [
  {
   "cell_type": "code",
   "execution_count": 1,
   "id": "142fad35-f8d8-4395-a998-b507c2352add",
   "metadata": {},
   "outputs": [
    {
     "name": "stdout",
     "output_type": "stream",
     "text": [
      "Requirement already satisfied: requests in c:\\users\\hp\\anaconda3\\lib\\site-packages (2.31.0)\n",
      "Requirement already satisfied: charset-normalizer<4,>=2 in c:\\users\\hp\\anaconda3\\lib\\site-packages (from requests) (2.0.4)\n",
      "Requirement already satisfied: idna<4,>=2.5 in c:\\users\\hp\\anaconda3\\lib\\site-packages (from requests) (3.4)\n",
      "Requirement already satisfied: urllib3<3,>=1.21.1 in c:\\users\\hp\\anaconda3\\lib\\site-packages (from requests) (1.26.16)\n",
      "Requirement already satisfied: certifi>=2017.4.17 in c:\\users\\hp\\anaconda3\\lib\\site-packages (from requests) (2023.11.17)\n",
      "Requirement already satisfied: beautifulsoup4 in c:\\users\\hp\\anaconda3\\lib\\site-packages (4.12.2)\n",
      "Requirement already satisfied: soupsieve>1.2 in c:\\users\\hp\\anaconda3\\lib\\site-packages (from beautifulsoup4) (2.4)\n"
     ]
    }
   ],
   "source": [
    "!pip install requests\n",
    "!pip install beautifulsoup4"
   ]
  },
  {
   "cell_type": "code",
   "execution_count": 2,
   "id": "6d7e5aba-2888-47f1-bc1b-3771373a8440",
   "metadata": {},
   "outputs": [],
   "source": [
    "from bs4 import BeautifulSoup\n",
    "import requests\n",
    "\n"
   ]
  },
  {
   "cell_type": "markdown",
   "id": "5591531d-6870-41d2-a8a4-2b9beb7d2a94",
   "metadata": {},
   "source": [
    "Write a python program to display all the header tags from wikipedia.org. "
   ]
  },
  {
   "cell_type": "code",
   "execution_count": 3,
   "id": "9b21978c-6f6a-4cb7-9344-bac695e50b8d",
   "metadata": {},
   "outputs": [],
   "source": [
    "url = requests.get('https://www.wikipedia.org/')"
   ]
  },
  {
   "cell_type": "code",
   "execution_count": 4,
   "id": "ade9e0ca-6fd4-452b-a996-0259ddfb6134",
   "metadata": {},
   "outputs": [
    {
     "data": {
      "text/plain": [
       "<Response [200]>"
      ]
     },
     "execution_count": 4,
     "metadata": {},
     "output_type": "execute_result"
    }
   ],
   "source": [
    "url"
   ]
  },
  {
   "cell_type": "code",
   "execution_count": 5,
   "id": "3407dbf7-cda7-491d-992b-b0c1fa6d3aa3",
   "metadata": {
    "scrolled": true
   },
   "outputs": [
    {
     "name": "stdout",
     "output_type": "stream",
     "text": [
      "Displaying all Header Tags :\n",
      "Wikipedia\n",
      "\n",
      "The Free Encyclopedia\n",
      "1,000,000+\n",
      "\n",
      "\n",
      "articles\n",
      "100,000+\n",
      "\n",
      "\n",
      "articles\n",
      "10,000+\n",
      "\n",
      "\n",
      "articles\n",
      "1,000+\n",
      "\n",
      "\n",
      "articles\n",
      "100+\n",
      "\n",
      "\n",
      "articles\n"
     ]
    }
   ],
   "source": [
    "soup = BeautifulSoup(url.text)\n",
    "soup\n",
    "titles = soup.find_all(['h1', 'h2','h3','h4','h5','h6'])\n",
    "print('Displaying all Header Tags :')\n",
    "for title in titles:\n",
    "    print(title.text.strip())"
   ]
  },
  {
   "cell_type": "markdown",
   "id": "1cd1219d-24b1-46cd-aeea-32d0194c09e5",
   "metadata": {},
   "source": [
    "Write a python program to display IMDB’s Top rated 100 movies’ data (i.e. name, rating, year \n",
    "of release) and make data frame."
   ]
  },
  {
   "cell_type": "code",
   "execution_count": 6,
   "id": "5cdd45cd-7622-4bd3-ab14-4ab79110e6b7",
   "metadata": {},
   "outputs": [],
   "source": [
    "url = requests.get('https://www.imdb.com/list/ls091520106/')"
   ]
  },
  {
   "cell_type": "code",
   "execution_count": 7,
   "id": "c370350f-b97f-4895-9fd6-751beddd92f1",
   "metadata": {},
   "outputs": [
    {
     "data": {
      "text/plain": [
       "<Response [200]>"
      ]
     },
     "execution_count": 7,
     "metadata": {},
     "output_type": "execute_result"
    }
   ],
   "source": [
    "url"
   ]
  },
  {
   "cell_type": "code",
   "execution_count": 8,
   "id": "7a7dd149-9033-42dc-9a1c-9496d1c3a2c5",
   "metadata": {},
   "outputs": [
    {
     "name": "stdout",
     "output_type": "stream",
     "text": [
      "                                   Name Rating  Year\n",
      "0              The Shawshank Redemption    9.3  1994\n",
      "1                         The Godfather    9.2  1972\n",
      "2                 The Godfather Part II      9  1974\n",
      "3                       The Dark Knight      9  2008\n",
      "4                          12 Angry Men      9  1957\n",
      "..                                  ...    ...   ...\n",
      "95                   North by Northwest    8.3  1959\n",
      "96                   A Clockwork Orange    8.3  1971\n",
      "97                               Snatch    8.2  2000\n",
      "98  Le fabuleux destin d'Amélie Poulain    8.3  2001\n",
      "99                              The Kid    8.2  1921\n",
      "\n",
      "[100 rows x 3 columns]\n"
     ]
    }
   ],
   "source": [
    "import pandas as pd\n",
    "import re\n",
    "url = 'https://www.imdb.com/list/ls091520106/'\n",
    "response = requests.get(url)\n",
    "\n",
    "soup = BeautifulSoup(response.content, 'html.parser')\n",
    "movies = []\n",
    "for movie in soup.find_all('div', class_='lister-item-content'):\n",
    "    name = movie.find('h3', class_='lister-item-header').a.text.strip()\n",
    "    rating = movie.find('span', class_='ipl-rating-star__rating').text.strip()\n",
    "    year_text = movie.find('span', class_='lister-item-year').text.strip('()')\n",
    "    year = re.findall(r'\\d+', year_text)[0]\n",
    "    movies.append({'Name': name, 'Rating': rating, 'Year': year})\n",
    "df = pd.DataFrame(movies)\n",
    "print(df)"
   ]
  },
  {
   "cell_type": "markdown",
   "id": "725292d3-5a0e-4178-ac30-53522d44db81",
   "metadata": {},
   "source": [
    "Question 3. Write a python program to scrape mentioned details from dineout.co.in : i) Restaurant name \n",
    "ii) Cuisine iii) Location iv) Ratings v) Image URL."
   ]
  },
  {
   "cell_type": "code",
   "execution_count": 24,
   "id": "0dd34010-5319-417d-a9a1-42c4db758bac",
   "metadata": {},
   "outputs": [],
   "source": [
    "\n",
    "url = requests.get('https://www.dineout.co.in/')\n",
    "soup = BeautifulSoup(url.content)\n",
    "\n",
    "restaurants = []\n",
    "for restaurant in soup.select('.restnt-info'):\n",
    "    name = restaurant.select_one('.restnt-info-main h2').text.strip()\n",
    "    cuisine = restaurant.select_one('.restnt-info-cuisine').text.strip()\n",
    "    location = restaurant.select_one('.restnt-info-ellipsis').text.strip()\n",
    "    rating = restaurant.select_one('.restnt-rating').text.strip()\n",
    "    image_url = restaurant.select_one('.restnt-thumb')['style'].split('(')[1].split(')')[0]\n",
    "    restaurants.append({'Name': name, 'Cuisine': cuisine, 'Location': location, 'Rating': rating, 'Image URL': image_url})\n",
    "\n",
    "for restaurant in restaurants:\n",
    "    print(restaurant)\n"
   ]
  },
  {
   "cell_type": "markdown",
   "id": "0b8f4cba-cf1a-43b6-b707-41e26c2c8e8d",
   "metadata": {},
   "source": [
    "Question-4 Write a python program to display list of respected former finance minister of India(i.e. \n",
    "Name , Term of office) from https://presidentofindia.nic.in/former-presidents and make \n",
    "data frame."
   ]
  },
  {
   "cell_type": "code",
   "execution_count": 23,
   "id": "6bc87c1a-10d8-4990-b018-587420b2a95a",
   "metadata": {},
   "outputs": [
    {
     "name": "stdout",
     "output_type": "stream",
     "text": [
      "                            Name           Term of Office\n",
      "0           Shri Ram Nath Kovind  14th President of India\n",
      "1          Shri Pranab Mukherjee  13th President of India\n",
      "2   Smt Pratibha Devisingh Patil  12th President of India\n",
      "3         DR. A.P.J. Abdul Kalam  11th President of India\n",
      "4           Shri K. R. Narayanan  10th President of India\n",
      "5        Dr Shankar Dayal Sharma  9th  President of India\n",
      "6            Shri R Venkataraman   8th President of India\n",
      "7               Giani Zail Singh   7th President of India\n",
      "8      Shri Neelam Sanjiva Reddy   6th President of India\n",
      "9       Dr. Fakhruddin Ali Ahmed   5th President of India\n",
      "10  Shri Varahagiri Venkata Giri   4th President of India\n",
      "11              Dr. Zakir Husain   3rd President of India\n",
      "12  Dr. Sarvepalli Radhakrishnan   2nd President of India\n",
      "13           Dr. Rajendra Prasad   1st President of India\n"
     ]
    }
   ],
   "source": [
    "url = requests.get(\"https://presidentofindia.nic.in/former-presidents\")\n",
    "soup = BeautifulSoup(response.content)\n",
    "president_listings = soup.find_all(class_=\"president-listing\")\n",
    "\n",
    "names = []\n",
    "terms = []\n",
    "\n",
    "for listing in president_listings:\n",
    "    name = listing.find(\"h3\").text.strip()\n",
    "    term = listing.find(\"h5\").text.strip()\n",
    "    names.append(name)\n",
    "    terms.append(term)\n",
    "\n",
    "data = {\"Name\": names, \"Term of Office\": terms}\n",
    "df = pd.DataFrame(data)\n",
    "print(df)\n"
   ]
  },
  {
   "cell_type": "code",
   "execution_count": null,
   "id": "31234311-dad0-4ce6-8650-f39330fb0c57",
   "metadata": {},
   "outputs": [],
   "source": []
  }
 ],
 "metadata": {
  "kernelspec": {
   "display_name": "Python 3 (ipykernel)",
   "language": "python",
   "name": "python3"
  },
  "language_info": {
   "codemirror_mode": {
    "name": "ipython",
    "version": 3
   },
   "file_extension": ".py",
   "mimetype": "text/x-python",
   "name": "python",
   "nbconvert_exporter": "python",
   "pygments_lexer": "ipython3",
   "version": "3.11.5"
  }
 },
 "nbformat": 4,
 "nbformat_minor": 5
}
