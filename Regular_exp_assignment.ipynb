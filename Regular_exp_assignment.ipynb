{
 "cells": [
  {
   "cell_type": "code",
   "execution_count": 2,
   "id": "aa033e80-3259-4c9f-be4a-a9af31037132",
   "metadata": {},
   "outputs": [],
   "source": [
    "import re\n",
    "import regex as re"
   ]
  },
  {
   "cell_type": "markdown",
   "id": "bf1064f5-6584-4a90-b2d4-d26d05891bfc",
   "metadata": {},
   "source": [
    "Question 1- Write a Python program to replace all occurrences of a space, comma, or dot with a colon.\n",
    "Sample Text- 'Python Exercises, PHP exercises.'\n",
    "Expected Output: Python:Exercises::PHP:exercises:\n"
   ]
  },
  {
   "cell_type": "code",
   "execution_count": 13,
   "id": "b4e99bed-ff76-4002-8108-9adc707d4106",
   "metadata": {},
   "outputs": [
    {
     "name": "stdout",
     "output_type": "stream",
     "text": [
      "Python:Exercises::PHP:exercises:\n"
     ]
    }
   ],
   "source": [
    "sample_text = \"Python Exercises, PHP exercises.\"\n",
    "output = re.sub(r\"[\\s,\\.]\",\":\",sample_text)\n",
    "print(output)\n"
   ]
  },
  {
   "cell_type": "markdown",
   "id": "0c0953a3-a862-4622-8ee1-28e224c2b15a",
   "metadata": {},
   "source": [
    "Question 2-  Create a dataframe using the dictionary below and remove everything (commas (,), !, XXXX, ;, etc.) from the columns except words.\n",
    "Dictionary- {'SUMMARY' : ['hello, world!', 'XXXXX test', '123four, five:; six...']}\n"
   ]
  },
  {
   "cell_type": "code",
   "execution_count": 61,
   "id": "2099dd55-c59b-4ebf-9735-fbeb839ae4eb",
   "metadata": {},
   "outputs": [
    {
     "name": "stdout",
     "output_type": "stream",
     "text": [
      "          SUMMARY\n",
      "0      helloworld\n",
      "1            test\n",
      "2  123fourfivesix\n"
     ]
    }
   ],
   "source": [
    "import pandas as pd\n",
    "\n",
    "df = pd.DataFrame({'SUMMARY': ['hello, world!', 'XXXXX test', '123four, five:; six...']})\n",
    "def remove_non_words(text):\n",
    "    text = re.sub(r'XXXXX', '', text)\n",
    "    return re.sub(r'\\W+','', text)\n",
    "\n",
    "df['SUMMARY'] = df['SUMMARY'].apply(remove_non_words)\n",
    "print(df)\n"
   ]
  },
  {
   "cell_type": "markdown",
   "id": "877e9a60-33f2-4b92-841e-bd0f80643efe",
   "metadata": {},
   "source": [
    "Question 3- Create a function in python to find all words that are at least 4 characters long in a string. The use of the re.compile() method is mandatory."
   ]
  },
  {
   "cell_type": "code",
   "execution_count": 3,
   "id": "87a0b385-c7c6-44b3-8abd-9759f7f3c549",
   "metadata": {},
   "outputs": [
    {
     "name": "stdout",
     "output_type": "stream",
     "text": [
      "Long words: ['This', 'string', 'with', 'some', 'long', 'words', 'like', 'Python', 'programming', 'machine', 'learning']\n"
     ]
    }
   ],
   "source": [
    "import re\n",
    "\n",
    "def find_long_words(input_string):\n",
    "    \n",
    "    pattern = re.compile(r'\\b\\w{4,}\\b')\n",
    "    \n",
    "   \n",
    "    long_words = pattern.findall(input_string)\n",
    "    \n",
    "    return long_words\n",
    "\n",
    "\n",
    "input_string = \"This is a string with some long words like Python, programming, and machine learning.\"\n",
    "result = find_long_words(input_string)\n",
    "print(\"Long words:\", result)\n"
   ]
  },
  {
   "cell_type": "markdown",
   "id": "17453bf6-903d-4c8c-8cca-60c86789ddcb",
   "metadata": {},
   "source": [
    "Question 4- Create a function in python to find all three, four, and five character words in a string. The use of the re.compile() method is mandatory."
   ]
  },
  {
   "cell_type": "code",
   "execution_count": 5,
   "id": "4d9d8950-172f-4459-8160-d60922999457",
   "metadata": {},
   "outputs": [
    {
     "name": "stdout",
     "output_type": "stream",
     "text": [
      "Three, four, and five character words: ['This', 'with', 'some', 'words', 'like', 'car', 'and', 'house']\n"
     ]
    }
   ],
   "source": [
    "import re\n",
    "\n",
    "def find_specific_length_words(input_string):\n",
    "    \n",
    "    pattern = re.compile(r'\\b\\w{3,5}\\b')\n",
    "    \n",
    "    \n",
    "    specific_length_words = pattern.findall(input_string)\n",
    "    \n",
    "    return specific_length_words\n",
    "\n",
    "\n",
    "input_string = \"This is a string with some words of different lengths like Python, car, and house.\"\n",
    "result = find_specific_length_words(input_string)\n",
    "print(\"Three, four, and five character words:\", result)\n"
   ]
  },
  {
   "cell_type": "markdown",
   "id": "262285fb-b1e6-4bc1-aeea-260a5f4d0d42",
   "metadata": {},
   "source": [
    "Question 5- Create a function in Python to remove the parenthesis in a list of strings. The use of the re.compile() method is mandatory.\n",
    "Sample Text: [\"example (.com)\", \"hr@fliprobo (.com)\", \"github (.com)\", \"Hello (Data Science World)\", \"Data (Scientist)\"]\n"
   ]
  },
  {
   "cell_type": "code",
   "execution_count": 70,
   "id": "559b9ef0-b0b1-42ed-a30b-664728911a65",
   "metadata": {},
   "outputs": [
    {
     "name": "stdout",
     "output_type": "stream",
     "text": [
      "example\n",
      "hr@fliprobo\n",
      "github\n",
      "Hello\n",
      "Data\n"
     ]
    }
   ],
   "source": [
    "\n",
    "def remove_parentheses(strings):\n",
    "    pattern = re.compile(r'\\s*\\([^)]*\\)')\n",
    "    cleaned_strings = [pattern.sub('', string) for string in strings]\n",
    "    return cleaned_strings\n",
    "\n",
    "sample_text = [\"example (.com)\", \"hr@fliprobo (.com)\", \"github (.com)\", \"Hello (Data Science World)\", \"Data (Scientist)\"]\n",
    "cleaned_text = remove_parentheses(sample_text)\n",
    "for string in cleaned_text:\n",
    "    print(string)\n"
   ]
  },
  {
   "cell_type": "markdown",
   "id": "f60dae2f-0382-4723-89c4-53238653d858",
   "metadata": {},
   "source": [
    "Question 6-Write a python program to remove the parenthesis area from the text stored in the text file using Regular Expression.\n",
    "Sample Text: [\"example (.com)\", \"hr@fliprobo (.com)\", \"github (.com)\", \"Hello (Data Science World)\", \"Data (Scientist)\"]\n",
    "Expected Output: [\"example\", \"hr@fliprobo\", \"github\", \"Hello\", \"Data\"]\n",
    "Note- Store given sample text in the text file and then to remove the parenthesis area from the text.\n"
   ]
  },
  {
   "cell_type": "code",
   "execution_count": 78,
   "id": "f2501119-f1dd-47c8-a7fb-d27c19ff15a0",
   "metadata": {},
   "outputs": [
    {
     "name": "stdout",
     "output_type": "stream",
     "text": [
      "Modified text: [\"example\", \"hr@fliprobo\", \"github\", \"Hello\", \"Data\"]\n"
     ]
    }
   ],
   "source": [
    "sample_text = '''[\"example (.com)\", \"hr@fliprobo (.com)\", \"github (.com)\", \"Hello (Data Science World)\", \"Data (Scientist)\"]'''\n",
    "\n",
    "with open(\"sample_text.txt\", \"w\") as file:\n",
    "    file.write(sample_text)\n",
    "def remove_parenthesis(file_path):\n",
    "    with open(file_path, 'r') as file:\n",
    "        text = file.read()\n",
    "\n",
    "    pattern = re.compile(r'\\s*\\([^)]*\\)')\n",
    "    cleaned_text = pattern.sub('', text)\n",
    "\n",
    "    with open(file_path, 'w') as file:\n",
    "        file.write(cleaned_text)\n",
    "file_path = \"sample_text.txt\"\n",
    "remove_parenthesis(file_path)\n",
    "\n",
    "with open(file_path, 'r') as file:\n",
    "    modified_text = file.read()\n",
    "    print(\"Modified text:\", modified_text)\n"
   ]
  },
  {
   "cell_type": "markdown",
   "id": "cd7e6d2a-2817-48e1-b6d6-b6cca46debd7",
   "metadata": {},
   "source": [
    "Question 7- Write a regular expression in Python to split a string into uppercase letters.\n",
    "Sample text: “ImportanceOfRegularExpressionsInPython”\n",
    "Expected Output: [‘Importance’, ‘Of’, ‘Regular’, ‘Expression’, ‘In’, ‘Python’]\n"
   ]
  },
  {
   "cell_type": "code",
   "execution_count": 65,
   "id": "f799a008-55b1-463d-8927-dcae84b441ad",
   "metadata": {},
   "outputs": [
    {
     "name": "stdout",
     "output_type": "stream",
     "text": [
      "Output: ['Importance', 'Of', 'Regular', 'Expressions', 'In', 'Python']\n"
     ]
    }
   ],
   "source": [
    "\n",
    "sample_text = \"ImportanceOfRegularExpressionsInPython\"\n",
    "split_text = re.findall('[A-Z][^A-Z]*', sample_text)\n",
    "\n",
    "print(\"Output:\", split_text)\n"
   ]
  },
  {
   "cell_type": "markdown",
   "id": "f309f069-5faf-4966-840d-81553ab9f520",
   "metadata": {},
   "source": [
    "Question 8- Create a function in python to insert spaces between words starting with numbers.\n",
    "Sample Text: “RegularExpression1IsAn2ImportantTopic3InPython\"\n",
    "Expected Output: RegularExpression 1IsAn 2ImportantTopic 3InPython\n"
   ]
  },
  {
   "cell_type": "code",
   "execution_count": 68,
   "id": "3c07df6e-cb35-4cac-a873-870b09f07931",
   "metadata": {},
   "outputs": [
    {
     "name": "stdout",
     "output_type": "stream",
     "text": [
      "RegularExpression 1IsAn 2ImportantTopic 3InPython\n"
     ]
    }
   ],
   "source": [
    "\n",
    "def insert_spaces(text):\n",
    "    \n",
    "    modified_text = re.sub(r'(\\d)([A-Za-z])', r' \\1\\2', text)\n",
    "    return modified_text\n",
    "sample_text = \"RegularExpression1IsAn2ImportantTopic3InPython\"\n",
    "\n",
    "output = insert_spaces(sample_text)\n",
    "print(output)\n"
   ]
  },
  {
   "cell_type": "markdown",
   "id": "bbe6c976-0309-4db4-893f-b7414590c81d",
   "metadata": {},
   "source": [
    "Question 9- Create a function in python to insert spaces between words starting with capital letters or with numbers.\n",
    "Sample Text: “RegularExpression1IsAn2ImportantTopic3InPython\"\n",
    "Expected Output:  RegularExpression 1 IsAn 2 ImportantTopic 3 InPython\n",
    "\n"
   ]
  },
  {
   "cell_type": "code",
   "execution_count": 69,
   "id": "57fc5a05-c086-420b-a3c0-14bde8d4774d",
   "metadata": {},
   "outputs": [
    {
     "name": "stdout",
     "output_type": "stream",
     "text": [
      "Expected Output: RegularExpression 1 IsAn 2 ImportantTopic 3 InPython\n"
     ]
    }
   ],
   "source": [
    "def insert_spaces(text):\n",
    "    modified_text = re.sub(r'([A-Z\\d])([a-z])', r'\\1\\2', text)\n",
    "    modified_text = re.sub(r'(\\d)([A-Za-z])', r' \\1 \\2', modified_text)\n",
    "    return modified_text\n",
    "sample_text = \"RegularExpression1IsAn2ImportantTopic3InPython\"\n",
    "\n",
    "output = insert_spaces(sample_text)\n",
    "print(\"Expected Output:\", output)\n"
   ]
  },
  {
   "cell_type": "markdown",
   "id": "d1ba4ade-97e8-4049-a81c-b31714a68488",
   "metadata": {},
   "source": [
    "Question 10- Use the github link below to read the data and create a dataframe. After creating the dataframe extract the first 6 letters of each country and store in the dataframe under a new column called first_five_letters.\n",
    "Github Link-  https://raw.githubusercontent.com/dsrscientist/DSData/master/happiness_score_dataset.csv\n"
   ]
  },
  {
   "cell_type": "code",
   "execution_count": 54,
   "id": "821f5aef-e167-4f68-8235-fc5f8263fca1",
   "metadata": {},
   "outputs": [
    {
     "name": "stdout",
     "output_type": "stream",
     "text": [
      "       Country          Region  Happiness Rank  Happiness Score  \\\n",
      "0  Switzerland  Western Europe               1            7.587   \n",
      "1      Iceland  Western Europe               2            7.561   \n",
      "2      Denmark  Western Europe               3            7.527   \n",
      "3       Norway  Western Europe               4            7.522   \n",
      "4       Canada   North America               5            7.427   \n",
      "\n",
      "   Standard Error  Economy (GDP per Capita)   Family  \\\n",
      "0         0.03411                   1.39651  1.34951   \n",
      "1         0.04884                   1.30232  1.40223   \n",
      "2         0.03328                   1.32548  1.36058   \n",
      "3         0.03880                   1.45900  1.33095   \n",
      "4         0.03553                   1.32629  1.32261   \n",
      "\n",
      "   Health (Life Expectancy)  Freedom  Trust (Government Corruption)  \\\n",
      "0                   0.94143  0.66557                        0.41978   \n",
      "1                   0.94784  0.62877                        0.14145   \n",
      "2                   0.87464  0.64938                        0.48357   \n",
      "3                   0.88521  0.66973                        0.36503   \n",
      "4                   0.90563  0.63297                        0.32957   \n",
      "\n",
      "   Generosity  Dystopia Residual  \n",
      "0     0.29678            2.51738  \n",
      "1     0.43630            2.70201  \n",
      "2     0.34139            2.49204  \n",
      "3     0.34699            2.46531  \n",
      "4     0.45811            2.45176  \n",
      "       Country          Region  Happiness Rank  Happiness Score  \\\n",
      "0  Switzerland  Western Europe               1            7.587   \n",
      "1      Iceland  Western Europe               2            7.561   \n",
      "2      Denmark  Western Europe               3            7.527   \n",
      "3       Norway  Western Europe               4            7.522   \n",
      "4       Canada   North America               5            7.427   \n",
      "\n",
      "   Standard Error  Economy (GDP per Capita)   Family  \\\n",
      "0         0.03411                   1.39651  1.34951   \n",
      "1         0.04884                   1.30232  1.40223   \n",
      "2         0.03328                   1.32548  1.36058   \n",
      "3         0.03880                   1.45900  1.33095   \n",
      "4         0.03553                   1.32629  1.32261   \n",
      "\n",
      "   Health (Life Expectancy)  Freedom  Trust (Government Corruption)  \\\n",
      "0                   0.94143  0.66557                        0.41978   \n",
      "1                   0.94784  0.62877                        0.14145   \n",
      "2                   0.87464  0.64938                        0.48357   \n",
      "3                   0.88521  0.66973                        0.36503   \n",
      "4                   0.90563  0.63297                        0.32957   \n",
      "\n",
      "   Generosity  Dystopia Residual first_five_letters  \n",
      "0     0.29678            2.51738             Switze  \n",
      "1     0.43630            2.70201             Icelan  \n",
      "2     0.34139            2.49204             Denmar  \n",
      "3     0.34699            2.46531             Norway  \n",
      "4     0.45811            2.45176             Canada  \n"
     ]
    }
   ],
   "source": [
    "import pandas as pd\n",
    "url = \"https://raw.githubusercontent.com/dsrscientist/DSData/master/happiness_score_dataset.csv\"\n",
    "df = pd.read_csv(url)\n",
    "print(df.head())\n",
    "df['first_five_letters'] = df['Country'].str[:6]\n",
    "print(df.head())\n"
   ]
  },
  {
   "cell_type": "markdown",
   "id": "79ff2397-c119-441e-a1fd-c8d2fd3667e1",
   "metadata": {},
   "source": [
    "Question 11- Write a Python program to match a string that contains only upper and lowercase letters, numbers, and underscores."
   ]
  },
  {
   "cell_type": "code",
   "execution_count": 53,
   "id": "094e405f-139e-43c0-acf7-fa9b71111c7a",
   "metadata": {},
   "outputs": [
    {
     "name": "stdout",
     "output_type": "stream",
     "text": [
      "Not matched!\n",
      "Found a match!\n"
     ]
    }
   ],
   "source": [
    "def text_match(text):\n",
    "        patterns = '^[a-zA-Z0-9_]*$'\n",
    "        if re.search(patterns,  text):\n",
    "                return 'Found a match!'\n",
    "        else:\n",
    "                return('Not matched!')\n",
    "\n",
    "print(text_match(\"The quick brown fox jumps over the lazy dog.\"))\n",
    "print(text_match(\"Python_isaprogramminglanguage234\"))"
   ]
  },
  {
   "cell_type": "markdown",
   "id": "63315311-8b5d-44bb-b430-b20a5adcedcc",
   "metadata": {},
   "source": [
    "Question 12- Write a Python program where a string will start with a specific number. "
   ]
  },
  {
   "cell_type": "code",
   "execution_count": 49,
   "id": "ea8d202d-55b0-42aa-8eee-58c2f051926c",
   "metadata": {},
   "outputs": [
    {
     "name": "stdout",
     "output_type": "stream",
     "text": [
      "123Hello: Starts with 123\n",
      "456World: Does not start with 123\n",
      "12345Apple: Starts with 123\n",
      "Hello123: Does not start with 123\n"
     ]
    }
   ],
   "source": [
    "\n",
    "specific_number = \"123\"\n",
    "strings = [\"123Hello\", \"456World\", \"12345Apple\", \"Hello123\"]\n",
    "\n",
    "pattern = re.compile(r'^' + re.escape(specific_number))\n",
    "\n",
    "for string in strings:\n",
    "    if pattern.match(string):\n",
    "        print(f\"{string}: Starts with {specific_number}\")\n",
    "    else:\n",
    "        print(f\"{string}: Does not start with {specific_number}\")\n"
   ]
  },
  {
   "cell_type": "markdown",
   "id": "c929b0f0-83dd-4688-a107-a8f1b4f8e63d",
   "metadata": {},
   "source": [
    "Question 13- Write a Python program to remove leading zeros from an IP address"
   ]
  },
  {
   "cell_type": "code",
   "execution_count": 5,
   "id": "60b3149c-1646-4501-bc2d-50f2b9d0575f",
   "metadata": {},
   "outputs": [
    {
     "name": "stdout",
     "output_type": "stream",
     "text": [
      "316.7.94.186\n"
     ]
    }
   ],
   "source": [
    "ip_address = \"316.07.094.186\"\n",
    "string = re.sub('\\.[0]*', '.', ip_address)\n",
    "print(string)"
   ]
  },
  {
   "cell_type": "markdown",
   "id": "4a32c556-6cc2-40f2-8d31-df9b9774c9c4",
   "metadata": {},
   "source": [
    "Question 14- Write a regular expression in python to match a date string in the form of Month name followed by day number and year stored in a text file.\n",
    "Sample text :  ' On August 15th 1947 that India was declared independent from British colonialism, and the reins of control were handed over to the leaders of the Country’.\n",
    "Expected Output- August 15th 1947\n",
    "Note- Store given sample text in the text file and then extract the date string asked format.\n"
   ]
  },
  {
   "cell_type": "code",
   "execution_count": 76,
   "id": "e0dd1929-08f0-4eaa-add3-5bc5b6ad40db",
   "metadata": {},
   "outputs": [
    {
     "name": "stdout",
     "output_type": "stream",
     "text": [
      "Extracted date: August 15th 1947\n"
     ]
    }
   ],
   "source": [
    "sample_text = \"\"\"On August 15th 1947 that India was declared independent from British colonialism, and the reins of control were handed over to the leaders of the Country\"\"\"\n",
    "\n",
    "with open(\"sample_text.txt\", \"w\") as file:\n",
    "    file.write(sample_text)\n",
    "def extract_date_from_text(file_path):\n",
    "    with open(file_path, 'r') as file:\n",
    "        text = file.read()\n",
    "\n",
    "    pattern = re.compile(r'\\b(?:January|February|March|April|May|June|July|August|September|October|November|December)\\s+\\d{1,2}(?:st|nd|rd|th)?\\s+\\d{4}\\b')\n",
    "    date = pattern.search(text)\n",
    "    if date:\n",
    "        return date.group()\n",
    "    else:\n",
    "        return None\n",
    "\n",
    "file_path = \"sample_text.txt\"\n",
    "date = extract_date_from_text(file_path)\n",
    "if date:\n",
    "    print(\"Extracted date:\", date)\n",
    "else:\n",
    "    print(\"No date found in the text.\")\n",
    "\n"
   ]
  },
  {
   "cell_type": "markdown",
   "id": "fb3b83d3-15ac-4ef4-ab4a-65d163619004",
   "metadata": {},
   "source": [
    "Question 15- Write a Python program to search some literals strings in a string. \n",
    "Sample text : 'The quick brown fox jumps over the lazy dog.'\n",
    "Searched words : 'fox', 'dog', 'horse'\n"
   ]
  },
  {
   "cell_type": "code",
   "execution_count": 11,
   "id": "7fe9f1d5-ff62-4b28-9fe5-64210a2941a5",
   "metadata": {},
   "outputs": [
    {
     "name": "stdout",
     "output_type": "stream",
     "text": [
      "Searching for \"fox\" in text\" ->\n",
      "Matched!\n",
      "Searching for \"dog\" in text\" ->\n",
      "Matched!\n",
      "Searching for \"horse\" in text\" ->\n",
      "Not Matched!\n"
     ]
    }
   ],
   "source": [
    "pattern = [ 'fox', 'dog', 'horse' ]\n",
    "text = 'The quick brown fox jumps over the lazy dog.'\n",
    "for pattern in patterns:\n",
    "    print('Searching for \"%s\" in text\" ->' % (pattern),)\n",
    "    if re.search(pattern,  text):\n",
    "        print('Matched!')\n",
    "    else:\n",
    "        print('Not Matched!')"
   ]
  },
  {
   "cell_type": "markdown",
   "id": "5c41765f-65fb-4c93-b6a4-f84566204af2",
   "metadata": {},
   "source": [
    "Question 16- Write a Python program to search a literals string in a string and also find the location within the original string where the pattern occurs\n",
    "Sample text : 'The quick brown fox jumps over the lazy dog.'\n",
    "Searched words : 'fox'\n"
   ]
  },
  {
   "cell_type": "code",
   "execution_count": 15,
   "id": "30a0b9a4-aef4-4dcd-85f2-3ba10a91dc04",
   "metadata": {},
   "outputs": [
    {
     "name": "stdout",
     "output_type": "stream",
     "text": [
      "Found \"fox\" in from index 16 to 19 \n"
     ]
    }
   ],
   "source": [
    "searched_word = 'fox'\n",
    "text = 'The quick brown fox jumps over the lazy dog.'\n",
    "match = re.search(searched_word, text)\n",
    "s = match.start()\n",
    "e = match.end()\n",
    "print('Found \"%s\" in from index %d to %d ' % \\\n",
    "    (match.re.pattern, s, e))\n",
    "\t"
   ]
  },
  {
   "cell_type": "markdown",
   "id": "1d01265d-e4fe-4d00-82d7-001b3501d7f2",
   "metadata": {},
   "source": [
    "Question 17- Write a Python program to find the substrings within a string.\n",
    "Sample text : 'Python exercises, PHP exercises, C# exercises'\n",
    "Pattern : 'exercises'.\n"
   ]
  },
  {
   "cell_type": "code",
   "execution_count": 16,
   "id": "906771c9-d563-4c36-9089-85fe21f30853",
   "metadata": {},
   "outputs": [
    {
     "name": "stdout",
     "output_type": "stream",
     "text": [
      "Found \"exercises\"\n",
      "Found \"exercises\"\n",
      "Found \"exercises\"\n"
     ]
    }
   ],
   "source": [
    "text = 'Python exercises, PHP exercises, C# exercises'\n",
    "pattern = 'exercises'\n",
    "for match in re.findall(pattern, text):\n",
    "    print('Found \"%s\"' % match)"
   ]
  },
  {
   "cell_type": "markdown",
   "id": "39c0ec79-7838-44a9-b163-62544cdecafc",
   "metadata": {},
   "source": [
    "Question 18- Write a Python program to find the occurrence and position of the substrings within a string."
   ]
  },
  {
   "cell_type": "code",
   "execution_count": 18,
   "id": "0ab8d0bd-0874-417c-8137-90053dde9aa9",
   "metadata": {},
   "outputs": [
    {
     "name": "stdout",
     "output_type": "stream",
     "text": [
      "Found \"exercises\" at position 7:16\n",
      "Found \"exercises\" at position 22:31\n",
      "Found \"exercises\" at position 36:45\n"
     ]
    }
   ],
   "source": [
    "text = 'Python exercises, PHP exercises, C# exercises'\n",
    "pattern = 'exercises'\n",
    "for match in re.finditer(pattern, text):\n",
    "    s = match.start()\n",
    "    e = match.end()\n",
    "    print('Found \"%s\" at position %d:%d' % (text[s:e], s, e))"
   ]
  },
  {
   "cell_type": "markdown",
   "id": "b5a11a98-d810-4e36-b973-0d92a1bd003c",
   "metadata": {},
   "source": [
    "Question 19- Write a Python program to convert a date of yyyy-mm-dd format to dd-mm-yyyy format."
   ]
  },
  {
   "cell_type": "code",
   "execution_count": 20,
   "id": "be6027a2-ba74-4da2-80c6-dbd13588f8e1",
   "metadata": {},
   "outputs": [
    {
     "name": "stdout",
     "output_type": "stream",
     "text": [
      "Original date in YYY-MM-DD Format:  2024-04-02\n",
      "New date in DD-MM-YYYY Format:  02-04-2024\n"
     ]
    }
   ],
   "source": [
    "def converted_format(dt):\n",
    "        return re.sub(r'(\\d{4})-(\\d{1,2})-(\\d{1,2})', '\\\\3-\\\\2-\\\\1', dt)\n",
    "dt1 = \"2024-04-02\"\n",
    "print(\"Original date in YYY-MM-DD Format: \",dt1)\n",
    "print(\"New date in DD-MM-YYYY Format: \",converted_format(dt1))\n"
   ]
  },
  {
   "cell_type": "markdown",
   "id": "b2ea2acc-e5c2-49f6-869b-d0d6c408b5a7",
   "metadata": {},
   "source": [
    "Question 20- Create a function in python to find all decimal numbers with a precision of 1 or 2 in a string. The use of the re.compile() method is mandatory.\n",
    "Sample Text: \"01.12 0132.123 2.31875 145.8 3.01 27.25 0.25\"\n",
    "Expected Output: ['01.12', '145.8', '3.01', '27.25', '0.25']\n"
   ]
  },
  {
   "cell_type": "code",
   "execution_count": 21,
   "id": "66ba21c4-01f6-46fe-a517-85d122cef457",
   "metadata": {},
   "outputs": [
    {
     "name": "stdout",
     "output_type": "stream",
     "text": [
      "Decimal numbers found: ['01.12', '2', '145.8', '3.01', '27.25', '0.25']\n"
     ]
    }
   ],
   "source": [
    "def find_decimal_numbers(text):\n",
    "    pattern = re.compile(r'\\b\\d+\\.\\d{1,2}\\b|\\b\\d{1,2}\\.\\d{1,2}\\b|\\b\\d{1,2}\\b')\n",
    "    decimal_numbers = pattern.findall(text)\n",
    "    return decimal_numbers\n",
    "\n",
    "sample_text = \"01.12 0132.123 2.31875 145.8 3.01 27.25 0.25\"\n",
    "\n",
    "n= find_decimal_numbers(sample_text)\n",
    "print(\"Decimal numbers found:\", n)\n"
   ]
  },
  {
   "cell_type": "markdown",
   "id": "519ca7f1-2924-4aa7-a623-b239848ed222",
   "metadata": {},
   "source": [
    "Question 21- Write a Python program to separate and print the numbers and their position of a given string."
   ]
  },
  {
   "cell_type": "code",
   "execution_count": 22,
   "id": "5a88efa3-ade2-497f-9abc-d0e314110295",
   "metadata": {},
   "outputs": [
    {
     "name": "stdout",
     "output_type": "stream",
     "text": [
      "50\n",
      "Index position: 16\n",
      "60\n",
      "Index position: 25\n",
      "120\n",
      "Index position: 47\n",
      "150\n",
      "Index position: 59\n"
     ]
    }
   ],
   "source": [
    "text = \"Apple costs Rs. 50 , Rs. 60 for each pineapple 120 and Rs. 150 per Watermelon\"\n",
    "\n",
    "for m in re.finditer(\"\\d+\", text):\n",
    "    print(m.group(0))\n",
    "    print(\"Index position:\", m.start())\n",
    "\t"
   ]
  },
  {
   "cell_type": "markdown",
   "id": "36399b07-6738-4be1-bf4e-28abba24bac1",
   "metadata": {},
   "source": [
    "Question 22- Write a regular expression in python program to extract maximum/largest numeric value from a string.\n",
    "Sample Text:  'My marks in each semester are: 947, 896, 926, 524, 734, 950, 642'\n",
    "Expected Output: 950\n"
   ]
  },
  {
   "cell_type": "code",
   "execution_count": 24,
   "id": "1905c1e1-c1b6-4acf-9dd5-335f1171e0e8",
   "metadata": {},
   "outputs": [
    {
     "name": "stdout",
     "output_type": "stream",
     "text": [
      "950\n"
     ]
    }
   ],
   "source": [
    "text = re.findall(\"\\d+\", \"My marks in each semester are: 947, 896, 926, 524, 734, 950, 642\")\n",
    "num_list = map(int, text)\n",
    "print(max(num_list))"
   ]
  },
  {
   "cell_type": "markdown",
   "id": "be18f664-a38a-4c66-ad8e-1f0f9a8d7c81",
   "metadata": {},
   "source": [
    "Question 23- Create a function in python to insert spaces between words starting with capital letters.\n",
    "Sample Text: “RegularExpressionIsAnImportantTopicInPython\"\n",
    "Expected Output: Regular Expression Is An Important Topic In Python\n",
    "\n"
   ]
  },
  {
   "cell_type": "code",
   "execution_count": 29,
   "id": "8093a88a-b29b-4b71-81b5-11687ad63f09",
   "metadata": {},
   "outputs": [
    {
     "name": "stdout",
     "output_type": "stream",
     "text": [
      "Regular Expression Is An Important Topic In Python\n"
     ]
    }
   ],
   "source": [
    "\n",
    "def capital_words_spaces(str1):\n",
    "  return re.sub(r\"(\\w)([A-Z])\", r\"\\1 \\2\", str1)\n",
    "    \n",
    "print(capital_words_spaces(\"RegularExpressionIsAnImportantTopicInPython\"))\n",
    "    "
   ]
  },
  {
   "cell_type": "markdown",
   "id": "e8a6bf57-c179-48e0-98fc-2b1217009a2c",
   "metadata": {},
   "source": [
    "Question 24- Python regex to find sequences of one upper case letter followed by lower case letters"
   ]
  },
  {
   "cell_type": "code",
   "execution_count": 35,
   "id": "802b964a-8df5-4317-b636-091cf24d8701",
   "metadata": {},
   "outputs": [
    {
     "name": "stdout",
     "output_type": "stream",
     "text": [
      "Found a match!\n"
     ]
    }
   ],
   "source": [
    "\n",
    "def text_match(text):\n",
    "        patterns = '[A-Z]+[a-z]+$'\n",
    "        if re.search(patterns, text):\n",
    "                return 'Found a match!'\n",
    "        else:\n",
    "                return('Not matched!')\n",
    "print(text_match(\"Apple\"))"
   ]
  },
  {
   "cell_type": "markdown",
   "id": "cb2a49de-14a8-4e72-851c-de748190f8e7",
   "metadata": {},
   "source": [
    "Question 25- Write a Python program to remove continuous duplicate words from Sentence using Regular Expression.\n",
    "Sample Text: \"Hello hello world world\"\n",
    "Expected Output: Hello hello world\n"
   ]
  },
  {
   "cell_type": "code",
   "execution_count": 39,
   "id": "57b02704-480c-47a9-9966-f23577d04c1b",
   "metadata": {},
   "outputs": [
    {
     "name": "stdout",
     "output_type": "stream",
     "text": [
      "Hello hello world\n"
     ]
    }
   ],
   "source": [
    "text = \"Hello hello world world\"\n",
    "regex = r'\\b(\\w+)(\\s+\\1)+\\b'\n",
    "x = re.sub(regex, r'\\1', text)\n",
    "print(x)"
   ]
  },
  {
   "cell_type": "markdown",
   "id": "31ef7e2d-3407-420b-8d1c-af67e1ecf3c0",
   "metadata": {},
   "source": [
    "Question 26-  Write a python program using RegEx to accept string ending with alphanumeric character."
   ]
  },
  {
   "cell_type": "code",
   "execution_count": 44,
   "id": "d2d46f3b-41cb-4959-bbf3-b5c39480f5d8",
   "metadata": {},
   "outputs": [
    {
     "name": "stdout",
     "output_type": "stream",
     "text": [
      "The string ends with alphanumeric character\n"
     ]
    }
   ],
   "source": [
    "pattern = '[a-zA-z0-9]$'\n",
    "\n",
    "def check_string(my_string):\n",
    "\n",
    "   if(re.search(pattern, my_string)):\n",
    "      print(\"The string ends with alphanumeric character\")\n",
    "\n",
    "   else:\n",
    "      print(\"The string doesnot end with alphanumeric character\")\n",
    "\n",
    "check_string(\"python#123\")\n"
   ]
  },
  {
   "cell_type": "markdown",
   "id": "05fcc407-9819-4930-9387-cf347633d3a0",
   "metadata": {},
   "source": [
    "Question 27-Write a python program using RegEx to extract the hashtags.\n",
    "Sample Text:  \"\"\"RT @kapil_kausik: #Doltiwal I mean #xyzabc is \"hurt\" by #Demonetization as the same has rendered USELESS <ed><U+00A0><U+00BD><ed><U+00B1><U+0089> \"acquired funds\" No wo\"\"\"\n",
    "Expected Output: ['#Doltiwal', '#xyzabc', '#Demonetization']\n"
   ]
  },
  {
   "cell_type": "code",
   "execution_count": 45,
   "id": "5b97ab8a-b1e7-4cf4-8644-93055850e73d",
   "metadata": {},
   "outputs": [
    {
     "name": "stdout",
     "output_type": "stream",
     "text": [
      "Extracted hashtags: ['#Doltiwal', '#xyzabc', '#Demonetization']\n"
     ]
    }
   ],
   "source": [
    "def extract_hashtags(text):\n",
    "    pattern = re.compile(r'#\\w+')\n",
    "    hashtags = pattern.findall(text)\n",
    "    return hashtags\n",
    "sample_text = \"\"\"RT @kapil_kausik: #Doltiwal I mean #xyzabc is \"hurt\" by #Demonetization as the same has rendered USELESS <U+00A0><U+00BD><U+00B1><U+0089> \"acquired funds\" No wo\"\"\"\n",
    "\n",
    "hashtags = extract_hashtags(sample_text)\n",
    "\n",
    "print(\"Extracted hashtags:\", hashtags)\n"
   ]
  },
  {
   "cell_type": "markdown",
   "id": "b2c55428-7a15-4612-9fca-dc93211b728c",
   "metadata": {},
   "source": [
    "Question 28- Write a python program using RegEx to remove <U+..> like symbols\n",
    "Check the below sample text, there are strange symbols something of the sort <U+..> all over the place. You need to come up with a general Regex expression that will cover all such symbols.\n",
    "Sample Text: \"@Jags123456 Bharat band on 28??<ed><U+00A0><U+00BD><ed><U+00B8><U+0082>Those who  are protesting #demonetization  are all different party leaders\"\n",
    "Expected Output: @Jags123456 Bharat band on 28??<ed><ed>Those who  are protesting #demonetization  are all different party leaders\n"
   ]
  },
  {
   "cell_type": "code",
   "execution_count": 47,
   "id": "8e1ae16b-d139-4cf0-a86b-ec8835782f8e",
   "metadata": {},
   "outputs": [
    {
     "name": "stdout",
     "output_type": "stream",
     "text": [
      "@Jags123456 Bharat band on 28??Those who are protesting #demonetization are all different party leaders\n"
     ]
    }
   ],
   "source": [
    "def remove_symbols(text):\n",
    "    pattern = re.compile(r'<U\\+\\w{4}>')\n",
    "    cleaned_text = pattern.sub('', text)\n",
    "    return cleaned_text\n",
    "\n",
    "sample_text = \"@Jags123456 Bharat band on 28??<U+00A0><U+00BD><U+00B8><U+0082>Those who are protesting #demonetization are all different party leaders\"\n",
    "\n",
    "cleaned_text = remove_symbols(sample_text)\n",
    "print(cleaned_text)\n"
   ]
  },
  {
   "cell_type": "markdown",
   "id": "767555a6-e93f-4395-ac35-ab21f130fb8b",
   "metadata": {},
   "source": [
    "Question 29- Write a python program to extract dates from the text stored in the text file.\n",
    "Sample Text: Ron was born on 12-09-1992 and he was admitted to school 15-12-1999.\n",
    "Note- Store this sample text in the file and then extract dates.\n"
   ]
  },
  {
   "cell_type": "code",
   "execution_count": 75,
   "id": "53a8bc4f-93f6-4111-a848-fd965967aac1",
   "metadata": {},
   "outputs": [
    {
     "name": "stdout",
     "output_type": "stream",
     "text": [
      "Extracted dates: ['12-09-1992', '15-12-1999']\n"
     ]
    }
   ],
   "source": [
    "sample_text = \"\"\"Ram was born on 12-09-1992 and he was admitted to school 15-12-1999.\"\"\"\n",
    "\n",
    "with open(\"sample_text.txt\", \"w\") as file:\n",
    "    file.write(sample_text)\n",
    "def extract_dates_from_text(file_path):\n",
    "    with open(file_path, 'r') as file:\n",
    "        text = file.read()\n",
    "\n",
    "    pattern = re.compile(r'\\b\\d{2}-\\d{2}-\\d{4}\\b')\n",
    "    dates = pattern.findall(text)\n",
    "    return dates\n",
    "file_path = \"sample_text.txt\"\n",
    "dates = extract_dates_from_text(file_path)\n",
    "\n",
    "print(\"Extracted dates:\", dates)\n",
    "\n"
   ]
  },
  {
   "cell_type": "markdown",
   "id": "85cb6610-68ca-4889-a78c-d98ec2130e1e",
   "metadata": {},
   "source": [
    "Question 30- Create a function in python to remove all words from a string of length between 2 and 4.\n",
    "The use of the re.compile() method is mandatory.\n",
    "Sample Text: \"The following example creates an ArrayList with a capacity of 50 elements. 4 elements are then added to the ArrayList and the ArrayList is trimmed accordingly.\"\n",
    "Expected Output:  following example creates ArrayList a capacity elements. 4 elements added ArrayList ArrayList trimmed accordingly.\n"
   ]
  },
  {
   "cell_type": "code",
   "execution_count": 48,
   "id": "51d5311b-ded3-4dba-b905-291cfe258e97",
   "metadata": {},
   "outputs": [
    {
     "name": "stdout",
     "output_type": "stream",
     "text": [
      " following example creates ArrayList a capacity elements. 4 elements added ArrayList ArrayList trimmed accordingly.\n"
     ]
    }
   ],
   "source": [
    "text = \"The following example creates an ArrayList with a capacity of 50 elements. 4 elements are then added to the ArrayList and the ArrayList is trimmed accordingly.\"\n",
    "\n",
    "shortword = re.compile(r'\\W*\\b\\w{2,4}\\b')\n",
    "print(shortword.sub('', text))"
   ]
  },
  {
   "cell_type": "code",
   "execution_count": null,
   "id": "f5ff9832-201e-4c03-a6ce-ee54396e00c4",
   "metadata": {},
   "outputs": [],
   "source": []
  },
  {
   "cell_type": "code",
   "execution_count": null,
   "id": "1a889691-13ce-4a55-9420-4816a708545c",
   "metadata": {},
   "outputs": [],
   "source": []
  },
  {
   "cell_type": "code",
   "execution_count": null,
   "id": "82164b54-0d5f-4fac-9eea-e2f378ca6de2",
   "metadata": {},
   "outputs": [],
   "source": []
  }
 ],
 "metadata": {
  "kernelspec": {
   "display_name": "Python 3 (ipykernel)",
   "language": "python",
   "name": "python3"
  },
  "language_info": {
   "codemirror_mode": {
    "name": "ipython",
    "version": 3
   },
   "file_extension": ".py",
   "mimetype": "text/x-python",
   "name": "python",
   "nbconvert_exporter": "python",
   "pygments_lexer": "ipython3",
   "version": "3.11.5"
  }
 },
 "nbformat": 4,
 "nbformat_minor": 5
}
